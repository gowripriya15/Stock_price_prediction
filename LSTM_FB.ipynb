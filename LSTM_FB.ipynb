{
  "nbformat": 4,
  "nbformat_minor": 0,
  "metadata": {
    "colab": {
      "name": "LSTM_FB.ipynb",
      "provenance": [],
      "collapsed_sections": [],
      "authorship_tag": "ABX9TyMwwMdo5XKjeq/ZSZiRGbpW",
      "include_colab_link": true
    },
    "kernelspec": {
      "name": "python3",
      "display_name": "Python 3"
    },
    "language_info": {
      "name": "python"
    }
  },
  "cells": [
    {
      "cell_type": "markdown",
      "metadata": {
        "id": "view-in-github",
        "colab_type": "text"
      },
      "source": [
        "<a href=\"https://colab.research.google.com/github/gowripriya15/Stock_price_prediction/blob/main/LSTM_FB.ipynb\" target=\"_parent\"><img src=\"https://colab.research.google.com/assets/colab-badge.svg\" alt=\"Open In Colab\"/></a>"
      ]
    },
    {
      "cell_type": "markdown",
      "metadata": {
        "id": "1aIqtNfox16f"
      },
      "source": [
        "**STOCK_PRICE_PREDICTION_FOR_LARGE_CAP_TECH_COMPANIES**\n",
        "In this project,we will predict the stock price for various companies with the help of historical data and news-headlines by applying the LSTM model(Long Short-Term Memory)."
      ]
    },
    {
      "cell_type": "markdown",
      "metadata": {
        "id": "W-qz4V83-f8f"
      },
      "source": [
        "**IMPORTING REQUIRED LIBRARIES**"
      ]
    },
    {
      "cell_type": "code",
      "metadata": {
        "id": "c1w2KotQe1lX"
      },
      "source": [
        "import math\n",
        "import numpy as np\n",
        "import pandas as pd\n",
        "from sklearn.preprocessing import MinMaxScaler\n",
        "from keras.models import Sequential\n",
        "from keras.layers import Dense, LSTM, Dropout\n",
        "import matplotlib.pyplot as plt\n",
        "plt.style.use('seaborn')"
      ],
      "execution_count": 299,
      "outputs": []
    },
    {
      "cell_type": "markdown",
      "metadata": {
        "id": "BfqXWvdp-rr3"
      },
      "source": [
        "**UPLOADING DATASETS**"
      ]
    },
    {
      "cell_type": "code",
      "metadata": {
        "colab": {
          "resources": {
            "http://localhost:8080/nbextensions/google.colab/files.js": {
              "data": "Ly8gQ29weXJpZ2h0IDIwMTcgR29vZ2xlIExMQwovLwovLyBMaWNlbnNlZCB1bmRlciB0aGUgQXBhY2hlIExpY2Vuc2UsIFZlcnNpb24gMi4wICh0aGUgIkxpY2Vuc2UiKTsKLy8geW91IG1heSBub3QgdXNlIHRoaXMgZmlsZSBleGNlcHQgaW4gY29tcGxpYW5jZSB3aXRoIHRoZSBMaWNlbnNlLgovLyBZb3UgbWF5IG9idGFpbiBhIGNvcHkgb2YgdGhlIExpY2Vuc2UgYXQKLy8KLy8gICAgICBodHRwOi8vd3d3LmFwYWNoZS5vcmcvbGljZW5zZXMvTElDRU5TRS0yLjAKLy8KLy8gVW5sZXNzIHJlcXVpcmVkIGJ5IGFwcGxpY2FibGUgbGF3IG9yIGFncmVlZCB0byBpbiB3cml0aW5nLCBzb2Z0d2FyZQovLyBkaXN0cmlidXRlZCB1bmRlciB0aGUgTGljZW5zZSBpcyBkaXN0cmlidXRlZCBvbiBhbiAiQVMgSVMiIEJBU0lTLAovLyBXSVRIT1VUIFdBUlJBTlRJRVMgT1IgQ09ORElUSU9OUyBPRiBBTlkgS0lORCwgZWl0aGVyIGV4cHJlc3Mgb3IgaW1wbGllZC4KLy8gU2VlIHRoZSBMaWNlbnNlIGZvciB0aGUgc3BlY2lmaWMgbGFuZ3VhZ2UgZ292ZXJuaW5nIHBlcm1pc3Npb25zIGFuZAovLyBsaW1pdGF0aW9ucyB1bmRlciB0aGUgTGljZW5zZS4KCi8qKgogKiBAZmlsZW92ZXJ2aWV3IEhlbHBlcnMgZm9yIGdvb2dsZS5jb2xhYiBQeXRob24gbW9kdWxlLgogKi8KKGZ1bmN0aW9uKHNjb3BlKSB7CmZ1bmN0aW9uIHNwYW4odGV4dCwgc3R5bGVBdHRyaWJ1dGVzID0ge30pIHsKICBjb25zdCBlbGVtZW50ID0gZG9jdW1lbnQuY3JlYXRlRWxlbWVudCgnc3BhbicpOwogIGVsZW1lbnQudGV4dENvbnRlbnQgPSB0ZXh0OwogIGZvciAoY29uc3Qga2V5IG9mIE9iamVjdC5rZXlzKHN0eWxlQXR0cmlidXRlcykpIHsKICAgIGVsZW1lbnQuc3R5bGVba2V5XSA9IHN0eWxlQXR0cmlidXRlc1trZXldOwogIH0KICByZXR1cm4gZWxlbWVudDsKfQoKLy8gTWF4IG51bWJlciBvZiBieXRlcyB3aGljaCB3aWxsIGJlIHVwbG9hZGVkIGF0IGEgdGltZS4KY29uc3QgTUFYX1BBWUxPQURfU0laRSA9IDEwMCAqIDEwMjQ7CgpmdW5jdGlvbiBfdXBsb2FkRmlsZXMoaW5wdXRJZCwgb3V0cHV0SWQpIHsKICBjb25zdCBzdGVwcyA9IHVwbG9hZEZpbGVzU3RlcChpbnB1dElkLCBvdXRwdXRJZCk7CiAgY29uc3Qgb3V0cHV0RWxlbWVudCA9IGRvY3VtZW50LmdldEVsZW1lbnRCeUlkKG91dHB1dElkKTsKICAvLyBDYWNoZSBzdGVwcyBvbiB0aGUgb3V0cHV0RWxlbWVudCB0byBtYWtlIGl0IGF2YWlsYWJsZSBmb3IgdGhlIG5leHQgY2FsbAogIC8vIHRvIHVwbG9hZEZpbGVzQ29udGludWUgZnJvbSBQeXRob24uCiAgb3V0cHV0RWxlbWVudC5zdGVwcyA9IHN0ZXBzOwoKICByZXR1cm4gX3VwbG9hZEZpbGVzQ29udGludWUob3V0cHV0SWQpOwp9CgovLyBUaGlzIGlzIHJvdWdobHkgYW4gYXN5bmMgZ2VuZXJhdG9yIChub3Qgc3VwcG9ydGVkIGluIHRoZSBicm93c2VyIHlldCksCi8vIHdoZXJlIHRoZXJlIGFyZSBtdWx0aXBsZSBhc3luY2hyb25vdXMgc3RlcHMgYW5kIHRoZSBQeXRob24gc2lkZSBpcyBnb2luZwovLyB0byBwb2xsIGZvciBjb21wbGV0aW9uIG9mIGVhY2ggc3RlcC4KLy8gVGhpcyB1c2VzIGEgUHJvbWlzZSB0byBibG9jayB0aGUgcHl0aG9uIHNpZGUgb24gY29tcGxldGlvbiBvZiBlYWNoIHN0ZXAsCi8vIHRoZW4gcGFzc2VzIHRoZSByZXN1bHQgb2YgdGhlIHByZXZpb3VzIHN0ZXAgYXMgdGhlIGlucHV0IHRvIHRoZSBuZXh0IHN0ZXAuCmZ1bmN0aW9uIF91cGxvYWRGaWxlc0NvbnRpbnVlKG91dHB1dElkKSB7CiAgY29uc3Qgb3V0cHV0RWxlbWVudCA9IGRvY3VtZW50LmdldEVsZW1lbnRCeUlkKG91dHB1dElkKTsKICBjb25zdCBzdGVwcyA9IG91dHB1dEVsZW1lbnQuc3RlcHM7CgogIGNvbnN0IG5leHQgPSBzdGVwcy5uZXh0KG91dHB1dEVsZW1lbnQubGFzdFByb21pc2VWYWx1ZSk7CiAgcmV0dXJuIFByb21pc2UucmVzb2x2ZShuZXh0LnZhbHVlLnByb21pc2UpLnRoZW4oKHZhbHVlKSA9PiB7CiAgICAvLyBDYWNoZSB0aGUgbGFzdCBwcm9taXNlIHZhbHVlIHRvIG1ha2UgaXQgYXZhaWxhYmxlIHRvIHRoZSBuZXh0CiAgICAvLyBzdGVwIG9mIHRoZSBnZW5lcmF0b3IuCiAgICBvdXRwdXRFbGVtZW50Lmxhc3RQcm9taXNlVmFsdWUgPSB2YWx1ZTsKICAgIHJldHVybiBuZXh0LnZhbHVlLnJlc3BvbnNlOwogIH0pOwp9CgovKioKICogR2VuZXJhdG9yIGZ1bmN0aW9uIHdoaWNoIGlzIGNhbGxlZCBiZXR3ZWVuIGVhY2ggYXN5bmMgc3RlcCBvZiB0aGUgdXBsb2FkCiAqIHByb2Nlc3MuCiAqIEBwYXJhbSB7c3RyaW5nfSBpbnB1dElkIEVsZW1lbnQgSUQgb2YgdGhlIGlucHV0IGZpbGUgcGlja2VyIGVsZW1lbnQuCiAqIEBwYXJhbSB7c3RyaW5nfSBvdXRwdXRJZCBFbGVtZW50IElEIG9mIHRoZSBvdXRwdXQgZGlzcGxheS4KICogQHJldHVybiB7IUl0ZXJhYmxlPCFPYmplY3Q+fSBJdGVyYWJsZSBvZiBuZXh0IHN0ZXBzLgogKi8KZnVuY3Rpb24qIHVwbG9hZEZpbGVzU3RlcChpbnB1dElkLCBvdXRwdXRJZCkgewogIGNvbnN0IGlucHV0RWxlbWVudCA9IGRvY3VtZW50LmdldEVsZW1lbnRCeUlkKGlucHV0SWQpOwogIGlucHV0RWxlbWVudC5kaXNhYmxlZCA9IGZhbHNlOwoKICBjb25zdCBvdXRwdXRFbGVtZW50ID0gZG9jdW1lbnQuZ2V0RWxlbWVudEJ5SWQob3V0cHV0SWQpOwogIG91dHB1dEVsZW1lbnQuaW5uZXJIVE1MID0gJyc7CgogIGNvbnN0IHBpY2tlZFByb21pc2UgPSBuZXcgUHJvbWlzZSgocmVzb2x2ZSkgPT4gewogICAgaW5wdXRFbGVtZW50LmFkZEV2ZW50TGlzdGVuZXIoJ2NoYW5nZScsIChlKSA9PiB7CiAgICAgIHJlc29sdmUoZS50YXJnZXQuZmlsZXMpOwogICAgfSk7CiAgfSk7CgogIGNvbnN0IGNhbmNlbCA9IGRvY3VtZW50LmNyZWF0ZUVsZW1lbnQoJ2J1dHRvbicpOwogIGlucHV0RWxlbWVudC5wYXJlbnRFbGVtZW50LmFwcGVuZENoaWxkKGNhbmNlbCk7CiAgY2FuY2VsLnRleHRDb250ZW50ID0gJ0NhbmNlbCB1cGxvYWQnOwogIGNvbnN0IGNhbmNlbFByb21pc2UgPSBuZXcgUHJvbWlzZSgocmVzb2x2ZSkgPT4gewogICAgY2FuY2VsLm9uY2xpY2sgPSAoKSA9PiB7CiAgICAgIHJlc29sdmUobnVsbCk7CiAgICB9OwogIH0pOwoKICAvLyBXYWl0IGZvciB0aGUgdXNlciB0byBwaWNrIHRoZSBmaWxlcy4KICBjb25zdCBmaWxlcyA9IHlpZWxkIHsKICAgIHByb21pc2U6IFByb21pc2UucmFjZShbcGlja2VkUHJvbWlzZSwgY2FuY2VsUHJvbWlzZV0pLAogICAgcmVzcG9uc2U6IHsKICAgICAgYWN0aW9uOiAnc3RhcnRpbmcnLAogICAgfQogIH07CgogIGNhbmNlbC5yZW1vdmUoKTsKCiAgLy8gRGlzYWJsZSB0aGUgaW5wdXQgZWxlbWVudCBzaW5jZSBmdXJ0aGVyIHBpY2tzIGFyZSBub3QgYWxsb3dlZC4KICBpbnB1dEVsZW1lbnQuZGlzYWJsZWQgPSB0cnVlOwoKICBpZiAoIWZpbGVzKSB7CiAgICByZXR1cm4gewogICAgICByZXNwb25zZTogewogICAgICAgIGFjdGlvbjogJ2NvbXBsZXRlJywKICAgICAgfQogICAgfTsKICB9CgogIGZvciAoY29uc3QgZmlsZSBvZiBmaWxlcykgewogICAgY29uc3QgbGkgPSBkb2N1bWVudC5jcmVhdGVFbGVtZW50KCdsaScpOwogICAgbGkuYXBwZW5kKHNwYW4oZmlsZS5uYW1lLCB7Zm9udFdlaWdodDogJ2JvbGQnfSkpOwogICAgbGkuYXBwZW5kKHNwYW4oCiAgICAgICAgYCgke2ZpbGUudHlwZSB8fCAnbi9hJ30pIC0gJHtmaWxlLnNpemV9IGJ5dGVzLCBgICsKICAgICAgICBgbGFzdCBtb2RpZmllZDogJHsKICAgICAgICAgICAgZmlsZS5sYXN0TW9kaWZpZWREYXRlID8gZmlsZS5sYXN0TW9kaWZpZWREYXRlLnRvTG9jYWxlRGF0ZVN0cmluZygpIDoKICAgICAgICAgICAgICAgICAgICAgICAgICAgICAgICAgICAgJ24vYSd9IC0gYCkpOwogICAgY29uc3QgcGVyY2VudCA9IHNwYW4oJzAlIGRvbmUnKTsKICAgIGxpLmFwcGVuZENoaWxkKHBlcmNlbnQpOwoKICAgIG91dHB1dEVsZW1lbnQuYXBwZW5kQ2hpbGQobGkpOwoKICAgIGNvbnN0IGZpbGVEYXRhUHJvbWlzZSA9IG5ldyBQcm9taXNlKChyZXNvbHZlKSA9PiB7CiAgICAgIGNvbnN0IHJlYWRlciA9IG5ldyBGaWxlUmVhZGVyKCk7CiAgICAgIHJlYWRlci5vbmxvYWQgPSAoZSkgPT4gewogICAgICAgIHJlc29sdmUoZS50YXJnZXQucmVzdWx0KTsKICAgICAgfTsKICAgICAgcmVhZGVyLnJlYWRBc0FycmF5QnVmZmVyKGZpbGUpOwogICAgfSk7CiAgICAvLyBXYWl0IGZvciB0aGUgZGF0YSB0byBiZSByZWFkeS4KICAgIGxldCBmaWxlRGF0YSA9IHlpZWxkIHsKICAgICAgcHJvbWlzZTogZmlsZURhdGFQcm9taXNlLAogICAgICByZXNwb25zZTogewogICAgICAgIGFjdGlvbjogJ2NvbnRpbnVlJywKICAgICAgfQogICAgfTsKCiAgICAvLyBVc2UgYSBjaHVua2VkIHNlbmRpbmcgdG8gYXZvaWQgbWVzc2FnZSBzaXplIGxpbWl0cy4gU2VlIGIvNjIxMTU2NjAuCiAgICBsZXQgcG9zaXRpb24gPSAwOwogICAgZG8gewogICAgICBjb25zdCBsZW5ndGggPSBNYXRoLm1pbihmaWxlRGF0YS5ieXRlTGVuZ3RoIC0gcG9zaXRpb24sIE1BWF9QQVlMT0FEX1NJWkUpOwogICAgICBjb25zdCBjaHVuayA9IG5ldyBVaW50OEFycmF5KGZpbGVEYXRhLCBwb3NpdGlvbiwgbGVuZ3RoKTsKICAgICAgcG9zaXRpb24gKz0gbGVuZ3RoOwoKICAgICAgY29uc3QgYmFzZTY0ID0gYnRvYShTdHJpbmcuZnJvbUNoYXJDb2RlLmFwcGx5KG51bGwsIGNodW5rKSk7CiAgICAgIHlpZWxkIHsKICAgICAgICByZXNwb25zZTogewogICAgICAgICAgYWN0aW9uOiAnYXBwZW5kJywKICAgICAgICAgIGZpbGU6IGZpbGUubmFtZSwKICAgICAgICAgIGRhdGE6IGJhc2U2NCwKICAgICAgICB9LAogICAgICB9OwoKICAgICAgbGV0IHBlcmNlbnREb25lID0gZmlsZURhdGEuYnl0ZUxlbmd0aCA9PT0gMCA/CiAgICAgICAgICAxMDAgOgogICAgICAgICAgTWF0aC5yb3VuZCgocG9zaXRpb24gLyBmaWxlRGF0YS5ieXRlTGVuZ3RoKSAqIDEwMCk7CiAgICAgIHBlcmNlbnQudGV4dENvbnRlbnQgPSBgJHtwZXJjZW50RG9uZX0lIGRvbmVgOwoKICAgIH0gd2hpbGUgKHBvc2l0aW9uIDwgZmlsZURhdGEuYnl0ZUxlbmd0aCk7CiAgfQoKICAvLyBBbGwgZG9uZS4KICB5aWVsZCB7CiAgICByZXNwb25zZTogewogICAgICBhY3Rpb246ICdjb21wbGV0ZScsCiAgICB9CiAgfTsKfQoKc2NvcGUuZ29vZ2xlID0gc2NvcGUuZ29vZ2xlIHx8IHt9OwpzY29wZS5nb29nbGUuY29sYWIgPSBzY29wZS5nb29nbGUuY29sYWIgfHwge307CnNjb3BlLmdvb2dsZS5jb2xhYi5fZmlsZXMgPSB7CiAgX3VwbG9hZEZpbGVzLAogIF91cGxvYWRGaWxlc0NvbnRpbnVlLAp9Owp9KShzZWxmKTsK",
              "ok": true,
              "headers": [
                [
                  "content-type",
                  "application/javascript"
                ]
              ],
              "status": 200,
              "status_text": ""
            }
          },
          "base_uri": "https://localhost:8080/",
          "height": 73
        },
        "id": "qMVYsyr_e8eB",
        "outputId": "8d331c13-9ebf-42ed-fe4b-41e4aaf39bbb"
      },
      "source": [
        "from google.colab import files\n",
        "uploaded = files.upload()"
      ],
      "execution_count": 300,
      "outputs": [
        {
          "output_type": "display_data",
          "data": {
            "text/html": [
              "\n",
              "     <input type=\"file\" id=\"files-e14fbd6a-0c73-4560-84a7-89a98920f38c\" name=\"files[]\" multiple disabled\n",
              "        style=\"border:none\" />\n",
              "     <output id=\"result-e14fbd6a-0c73-4560-84a7-89a98920f38c\">\n",
              "      Upload widget is only available when the cell has been executed in the\n",
              "      current browser session. Please rerun this cell to enable.\n",
              "      </output>\n",
              "      <script src=\"/nbextensions/google.colab/files.js\"></script> "
            ],
            "text/plain": [
              "<IPython.core.display.HTML object>"
            ]
          },
          "metadata": {
            "tags": []
          }
        },
        {
          "output_type": "stream",
          "text": [
            "Saving facebook_merge_news_headlines.csv to facebook_merge_news_headlines (4).csv\n"
          ],
          "name": "stdout"
        }
      ]
    },
    {
      "cell_type": "code",
      "metadata": {
        "colab": {
          "base_uri": "https://localhost:8080/",
          "height": 417
        },
        "id": "aj4BfeMPfBnS",
        "outputId": "c001ab35-7674-4096-f6c2-d4ff4c731224"
      },
      "source": [
        "import io\n",
        "fb_data=pd.read_csv(io.BytesIO(uploaded['facebook_merge_news_headlines.csv']))\n",
        "fb_data = pd.read_csv(\"facebook_merge_news_headlines.csv\", parse_dates=['Date'])\n",
        "fb_data\n",
        "\n",
        "\n",
        "\n"
      ],
      "execution_count": 301,
      "outputs": [
        {
          "output_type": "execute_result",
          "data": {
            "text/html": [
              "<div>\n",
              "<style scoped>\n",
              "    .dataframe tbody tr th:only-of-type {\n",
              "        vertical-align: middle;\n",
              "    }\n",
              "\n",
              "    .dataframe tbody tr th {\n",
              "        vertical-align: top;\n",
              "    }\n",
              "\n",
              "    .dataframe thead th {\n",
              "        text-align: right;\n",
              "    }\n",
              "</style>\n",
              "<table border=\"1\" class=\"dataframe\">\n",
              "  <thead>\n",
              "    <tr style=\"text-align: right;\">\n",
              "      <th></th>\n",
              "      <th>Date</th>\n",
              "      <th>Headlines</th>\n",
              "    </tr>\n",
              "  </thead>\n",
              "  <tbody>\n",
              "    <tr>\n",
              "      <th>0</th>\n",
              "      <td>2015-01-01</td>\n",
              "      <td>What Can We Expect From Apple Inc. In 2015? 1 ...</td>\n",
              "    </tr>\n",
              "    <tr>\n",
              "      <th>1</th>\n",
              "      <td>2015-02-01</td>\n",
              "      <td>What to expect from Apple in 2015 beyond its s...</td>\n",
              "    </tr>\n",
              "    <tr>\n",
              "      <th>2</th>\n",
              "      <td>2015-03-01</td>\n",
              "      <td>Mountie: An inexpensive and innovative way to ...</td>\n",
              "    </tr>\n",
              "    <tr>\n",
              "      <th>3</th>\n",
              "      <td>2015-04-01</td>\n",
              "      <td>Donald Yacktman on the Sources of Moats, His C...</td>\n",
              "    </tr>\n",
              "    <tr>\n",
              "      <th>4</th>\n",
              "      <td>2015-05-01</td>\n",
              "      <td>SIM-free iPhone 6, 6 Plus reportedly debuting ...</td>\n",
              "    </tr>\n",
              "    <tr>\n",
              "      <th>...</th>\n",
              "      <td>...</td>\n",
              "      <td>...</td>\n",
              "    </tr>\n",
              "    <tr>\n",
              "      <th>2360</th>\n",
              "      <td>2021-06-19</td>\n",
              "      <td>Best pre-Prime Day smartwatch deals on Apple W...</td>\n",
              "    </tr>\n",
              "    <tr>\n",
              "      <th>2361</th>\n",
              "      <td>2021-06-20</td>\n",
              "      <td>iPhone 13 rumors: As Apple's fall event gets c...</td>\n",
              "    </tr>\n",
              "    <tr>\n",
              "      <th>2362</th>\n",
              "      <td>2021-06-21</td>\n",
              "      <td>Apple is shortening new free TV Plus trials fr...</td>\n",
              "    </tr>\n",
              "    <tr>\n",
              "      <th>2363</th>\n",
              "      <td>2021-06-22</td>\n",
              "      <td>Google likely to soon face antitrust claims ov...</td>\n",
              "    </tr>\n",
              "    <tr>\n",
              "      <th>2364</th>\n",
              "      <td>2021-06-23</td>\n",
              "      <td>French court sets date in Apple case over App ...</td>\n",
              "    </tr>\n",
              "  </tbody>\n",
              "</table>\n",
              "<p>2365 rows × 2 columns</p>\n",
              "</div>"
            ],
            "text/plain": [
              "           Date                                          Headlines\n",
              "0    2015-01-01  What Can We Expect From Apple Inc. In 2015? 1 ...\n",
              "1    2015-02-01  What to expect from Apple in 2015 beyond its s...\n",
              "2    2015-03-01  Mountie: An inexpensive and innovative way to ...\n",
              "3    2015-04-01  Donald Yacktman on the Sources of Moats, His C...\n",
              "4    2015-05-01  SIM-free iPhone 6, 6 Plus reportedly debuting ...\n",
              "...         ...                                                ...\n",
              "2360 2021-06-19  Best pre-Prime Day smartwatch deals on Apple W...\n",
              "2361 2021-06-20  iPhone 13 rumors: As Apple's fall event gets c...\n",
              "2362 2021-06-21  Apple is shortening new free TV Plus trials fr...\n",
              "2363 2021-06-22  Google likely to soon face antitrust claims ov...\n",
              "2364 2021-06-23  French court sets date in Apple case over App ...\n",
              "\n",
              "[2365 rows x 2 columns]"
            ]
          },
          "metadata": {
            "tags": []
          },
          "execution_count": 301
        }
      ]
    },
    {
      "cell_type": "code",
      "metadata": {
        "colab": {
          "resources": {
            "http://localhost:8080/nbextensions/google.colab/files.js": {
              "data": "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",
              "ok": true,
              "headers": [
                [
                  "content-type",
                  "application/javascript"
                ]
              ],
              "status": 200,
              "status_text": ""
            }
          },
          "base_uri": "https://localhost:8080/",
          "height": 73
        },
        "id": "1fA9jJghfqZL",
        "outputId": "75c7ad58-2986-4ed9-f41c-b875f2126788"
      },
      "source": [
        "from google.colab import files\n",
        "uploaded = files.upload()"
      ],
      "execution_count": 302,
      "outputs": [
        {
          "output_type": "display_data",
          "data": {
            "text/html": [
              "\n",
              "     <input type=\"file\" id=\"files-5bd70094-4804-45e1-a6eb-a03f1a6c208c\" name=\"files[]\" multiple disabled\n",
              "        style=\"border:none\" />\n",
              "     <output id=\"result-5bd70094-4804-45e1-a6eb-a03f1a6c208c\">\n",
              "      Upload widget is only available when the cell has been executed in the\n",
              "      current browser session. Please rerun this cell to enable.\n",
              "      </output>\n",
              "      <script src=\"/nbextensions/google.colab/files.js\"></script> "
            ],
            "text/plain": [
              "<IPython.core.display.HTML object>"
            ]
          },
          "metadata": {
            "tags": []
          }
        },
        {
          "output_type": "stream",
          "text": [
            "Saving HistoricalData_FB.csv to HistoricalData_FB (4).csv\n"
          ],
          "name": "stdout"
        }
      ]
    },
    {
      "cell_type": "code",
      "metadata": {
        "id": "QVbi8chsfELp"
      },
      "source": [
        "\n",
        "df=pd.read_csv(io.BytesIO(uploaded['HistoricalData_FB.csv']))"
      ],
      "execution_count": 303,
      "outputs": []
    },
    {
      "cell_type": "markdown",
      "metadata": {
        "id": "Ue39N0Dd-3PZ"
      },
      "source": [
        "**CHECKING NULL VALUES**"
      ]
    },
    {
      "cell_type": "code",
      "metadata": {
        "colab": {
          "base_uri": "https://localhost:8080/",
          "height": 368
        },
        "id": "Ceh1vOOv_QhU",
        "outputId": "6f520ec5-6546-4525-8e14-3e17c68f9bf6"
      },
      "source": [
        "import seaborn as sns\n",
        "sns.heatmap(fb_data.isnull(),cmap='plasma')"
      ],
      "execution_count": 304,
      "outputs": [
        {
          "output_type": "execute_result",
          "data": {
            "text/plain": [
              "<matplotlib.axes._subplots.AxesSubplot at 0x7f57ed155fd0>"
            ]
          },
          "metadata": {
            "tags": []
          },
          "execution_count": 304
        },
        {
          "output_type": "display_data",
          "data": {
            "image/png": "[encoded data removed]",
            "text/plain": [
              "<Figure size 576x396 with 2 Axes>"
            ]
          },
          "metadata": {
            "tags": []
          }
        }
      ]
    },
    {
      "cell_type": "code",
      "metadata": {
        "id": "np9YWORAf0FU"
      },
      "source": [
        "fb_data.sort_index(inplace=True)"
      ],
      "execution_count": 305,
      "outputs": []
    },
    {
      "cell_type": "code",
      "metadata": {
        "colab": {
          "base_uri": "https://localhost:8080/",
          "height": 203
        },
        "id": "9qLmWgObf2Te",
        "outputId": "125c4792-8c67-4e23-bc2e-e2fba87c06a6"
      },
      "source": [
        "df = pd.read_csv(\"HistoricalData_FB.csv\", parse_dates=['Date'])\n",
        "df.head()"
      ],
      "execution_count": 306,
      "outputs": [
        {
          "output_type": "execute_result",
          "data": {
            "text/html": [
              "<div>\n",
              "<style scoped>\n",
              "    .dataframe tbody tr th:only-of-type {\n",
              "        vertical-align: middle;\n",
              "    }\n",
              "\n",
              "    .dataframe tbody tr th {\n",
              "        vertical-align: top;\n",
              "    }\n",
              "\n",
              "    .dataframe thead th {\n",
              "        text-align: right;\n",
              "    }\n",
              "</style>\n",
              "<table border=\"1\" class=\"dataframe\">\n",
              "  <thead>\n",
              "    <tr style=\"text-align: right;\">\n",
              "      <th></th>\n",
              "      <th>Date</th>\n",
              "      <th>Close/Last</th>\n",
              "      <th>Volume</th>\n",
              "      <th>Open</th>\n",
              "      <th>High</th>\n",
              "      <th>Low</th>\n",
              "    </tr>\n",
              "  </thead>\n",
              "  <tbody>\n",
              "    <tr>\n",
              "      <th>0</th>\n",
              "      <td>2021-06-09</td>\n",
              "      <td>$330.25</td>\n",
              "      <td>13727950</td>\n",
              "      <td>$335.74</td>\n",
              "      <td>$336.8</td>\n",
              "      <td>$330</td>\n",
              "    </tr>\n",
              "    <tr>\n",
              "      <th>1</th>\n",
              "      <td>2021-06-08</td>\n",
              "      <td>$333.68</td>\n",
              "      <td>14580460</td>\n",
              "      <td>$336.7</td>\n",
              "      <td>$338.2999</td>\n",
              "      <td>$332.24</td>\n",
              "    </tr>\n",
              "    <tr>\n",
              "      <th>2</th>\n",
              "      <td>2021-06-07</td>\n",
              "      <td>$336.58</td>\n",
              "      <td>20136710</td>\n",
              "      <td>$329.48</td>\n",
              "      <td>$337.69</td>\n",
              "      <td>$328.93</td>\n",
              "    </tr>\n",
              "    <tr>\n",
              "      <th>3</th>\n",
              "      <td>2021-06-04</td>\n",
              "      <td>$330.35</td>\n",
              "      <td>13289380</td>\n",
              "      <td>$325.9</td>\n",
              "      <td>$332.455</td>\n",
              "      <td>$325.18</td>\n",
              "    </tr>\n",
              "    <tr>\n",
              "      <th>4</th>\n",
              "      <td>2021-06-03</td>\n",
              "      <td>$326.04</td>\n",
              "      <td>12610790</td>\n",
              "      <td>$325.78</td>\n",
              "      <td>$327.375</td>\n",
              "      <td>$323.48</td>\n",
              "    </tr>\n",
              "  </tbody>\n",
              "</table>\n",
              "</div>"
            ],
            "text/plain": [
              "        Date Close/Last    Volume     Open       High      Low\n",
              "0 2021-06-09    $330.25  13727950  $335.74     $336.8     $330\n",
              "1 2021-06-08    $333.68  14580460   $336.7  $338.2999  $332.24\n",
              "2 2021-06-07    $336.58  20136710  $329.48    $337.69  $328.93\n",
              "3 2021-06-04    $330.35  13289380   $325.9   $332.455  $325.18\n",
              "4 2021-06-03    $326.04  12610790  $325.78   $327.375  $323.48"
            ]
          },
          "metadata": {
            "tags": []
          },
          "execution_count": 306
        }
      ]
    },
    {
      "cell_type": "code",
      "metadata": {
        "id": "mLoZ1uk1f_sd"
      },
      "source": [
        "df.rename(columns={\"Close/Last\":\"Close\"},inplace = True)\n",
        "\n"
      ],
      "execution_count": 307,
      "outputs": []
    },
    {
      "cell_type": "code",
      "metadata": {
        "id": "z0OagLLYgA_j"
      },
      "source": [
        "df.sort_values('Date', inplace=True)"
      ],
      "execution_count": 308,
      "outputs": []
    },
    {
      "cell_type": "code",
      "metadata": {
        "colab": {
          "base_uri": "https://localhost:8080/",
          "height": 417
        },
        "id": "MA91CZZtgE9y",
        "outputId": "3a965dc8-98a4-47f7-f8b0-eab5abd0ba42"
      },
      "source": [
        "df.reset_index()"
      ],
      "execution_count": 309,
      "outputs": [
        {
          "output_type": "execute_result",
          "data": {
            "text/html": [
              "<div>\n",
              "<style scoped>\n",
              "    .dataframe tbody tr th:only-of-type {\n",
              "        vertical-align: middle;\n",
              "    }\n",
              "\n",
              "    .dataframe tbody tr th {\n",
              "        vertical-align: top;\n",
              "    }\n",
              "\n",
              "    .dataframe thead th {\n",
              "        text-align: right;\n",
              "    }\n",
              "</style>\n",
              "<table border=\"1\" class=\"dataframe\">\n",
              "  <thead>\n",
              "    <tr style=\"text-align: right;\">\n",
              "      <th></th>\n",
              "      <th>index</th>\n",
              "      <th>Date</th>\n",
              "      <th>Close</th>\n",
              "      <th>Volume</th>\n",
              "      <th>Open</th>\n",
              "      <th>High</th>\n",
              "      <th>Low</th>\n",
              "    </tr>\n",
              "  </thead>\n",
              "  <tbody>\n",
              "    <tr>\n",
              "      <th>0</th>\n",
              "      <td>2278</td>\n",
              "      <td>2012-05-18</td>\n",
              "      <td>$38.2318</td>\n",
              "      <td>579377500</td>\n",
              "      <td>$42</td>\n",
              "      <td>$45</td>\n",
              "      <td>$38</td>\n",
              "    </tr>\n",
              "    <tr>\n",
              "      <th>1</th>\n",
              "      <td>2277</td>\n",
              "      <td>2012-05-21</td>\n",
              "      <td>$34.03</td>\n",
              "      <td>167943600</td>\n",
              "      <td>$36.53</td>\n",
              "      <td>$36.66</td>\n",
              "      <td>$33</td>\n",
              "    </tr>\n",
              "    <tr>\n",
              "      <th>2</th>\n",
              "      <td>2276</td>\n",
              "      <td>2012-05-22</td>\n",
              "      <td>$31</td>\n",
              "      <td>101667700</td>\n",
              "      <td>$32.61</td>\n",
              "      <td>$33.59</td>\n",
              "      <td>$30.94</td>\n",
              "    </tr>\n",
              "    <tr>\n",
              "      <th>3</th>\n",
              "      <td>2275</td>\n",
              "      <td>2012-05-23</td>\n",
              "      <td>$32</td>\n",
              "      <td>73541150</td>\n",
              "      <td>$31.37</td>\n",
              "      <td>$32.5</td>\n",
              "      <td>$31.36</td>\n",
              "    </tr>\n",
              "    <tr>\n",
              "      <th>4</th>\n",
              "      <td>2274</td>\n",
              "      <td>2012-05-24</td>\n",
              "      <td>$33.03</td>\n",
              "      <td>50208760</td>\n",
              "      <td>$32.95</td>\n",
              "      <td>$33.21</td>\n",
              "      <td>$31.77</td>\n",
              "    </tr>\n",
              "    <tr>\n",
              "      <th>...</th>\n",
              "      <td>...</td>\n",
              "      <td>...</td>\n",
              "      <td>...</td>\n",
              "      <td>...</td>\n",
              "      <td>...</td>\n",
              "      <td>...</td>\n",
              "      <td>...</td>\n",
              "    </tr>\n",
              "    <tr>\n",
              "      <th>2274</th>\n",
              "      <td>4</td>\n",
              "      <td>2021-06-03</td>\n",
              "      <td>$326.04</td>\n",
              "      <td>12610790</td>\n",
              "      <td>$325.78</td>\n",
              "      <td>$327.375</td>\n",
              "      <td>$323.48</td>\n",
              "    </tr>\n",
              "    <tr>\n",
              "      <th>2275</th>\n",
              "      <td>3</td>\n",
              "      <td>2021-06-04</td>\n",
              "      <td>$330.35</td>\n",
              "      <td>13289380</td>\n",
              "      <td>$325.9</td>\n",
              "      <td>$332.455</td>\n",
              "      <td>$325.18</td>\n",
              "    </tr>\n",
              "    <tr>\n",
              "      <th>2276</th>\n",
              "      <td>2</td>\n",
              "      <td>2021-06-07</td>\n",
              "      <td>$336.58</td>\n",
              "      <td>20136710</td>\n",
              "      <td>$329.48</td>\n",
              "      <td>$337.69</td>\n",
              "      <td>$328.93</td>\n",
              "    </tr>\n",
              "    <tr>\n",
              "      <th>2277</th>\n",
              "      <td>1</td>\n",
              "      <td>2021-06-08</td>\n",
              "      <td>$333.68</td>\n",
              "      <td>14580460</td>\n",
              "      <td>$336.7</td>\n",
              "      <td>$338.2999</td>\n",
              "      <td>$332.24</td>\n",
              "    </tr>\n",
              "    <tr>\n",
              "      <th>2278</th>\n",
              "      <td>0</td>\n",
              "      <td>2021-06-09</td>\n",
              "      <td>$330.25</td>\n",
              "      <td>13727950</td>\n",
              "      <td>$335.74</td>\n",
              "      <td>$336.8</td>\n",
              "      <td>$330</td>\n",
              "    </tr>\n",
              "  </tbody>\n",
              "</table>\n",
              "<p>2279 rows × 7 columns</p>\n",
              "</div>"
            ],
            "text/plain": [
              "      index       Date     Close     Volume     Open       High      Low\n",
              "0      2278 2012-05-18  $38.2318  579377500      $42        $45      $38\n",
              "1      2277 2012-05-21    $34.03  167943600   $36.53     $36.66      $33\n",
              "2      2276 2012-05-22       $31  101667700   $32.61     $33.59   $30.94\n",
              "3      2275 2012-05-23       $32   73541150   $31.37      $32.5   $31.36\n",
              "4      2274 2012-05-24    $33.03   50208760   $32.95     $33.21   $31.77\n",
              "...     ...        ...       ...        ...      ...        ...      ...\n",
              "2274      4 2021-06-03   $326.04   12610790  $325.78   $327.375  $323.48\n",
              "2275      3 2021-06-04   $330.35   13289380   $325.9   $332.455  $325.18\n",
              "2276      2 2021-06-07   $336.58   20136710  $329.48    $337.69  $328.93\n",
              "2277      1 2021-06-08   $333.68   14580460   $336.7  $338.2999  $332.24\n",
              "2278      0 2021-06-09   $330.25   13727950  $335.74     $336.8     $330\n",
              "\n",
              "[2279 rows x 7 columns]"
            ]
          },
          "metadata": {
            "tags": []
          },
          "execution_count": 309
        }
      ]
    },
    {
      "cell_type": "code",
      "metadata": {
        "colab": {
          "base_uri": "https://localhost:8080/"
        },
        "id": "re7jJKA8gJFr",
        "outputId": "5ddd928d-0a9d-4010-9bdc-286fcaf01444"
      },
      "source": [
        "df.columns"
      ],
      "execution_count": 310,
      "outputs": [
        {
          "output_type": "execute_result",
          "data": {
            "text/plain": [
              "Index(['Date', 'Close', 'Volume', 'Open', 'High', 'Low'], dtype='object')"
            ]
          },
          "metadata": {
            "tags": []
          },
          "execution_count": 310
        }
      ]
    },
    {
      "cell_type": "markdown",
      "metadata": {
        "id": "bD5myQEIBL8P"
      },
      "source": [
        "**MERGING THE HISTORICAL DATASET AND NEWS_HEADLINES DATASET**"
      ]
    },
    {
      "cell_type": "code",
      "metadata": {
        "id": "dY6L6neLgLW7"
      },
      "source": [
        "data = pd.merge(fb_data, df, how='inner', on=['Date'])"
      ],
      "execution_count": 311,
      "outputs": []
    },
    {
      "cell_type": "code",
      "metadata": {
        "colab": {
          "base_uri": "https://localhost:8080/",
          "height": 417
        },
        "id": "s6JE3epCgNm4",
        "outputId": "12a02cb4-5b79-49aa-d2fb-19cc39c96592"
      },
      "source": [
        "data"
      ],
      "execution_count": 312,
      "outputs": [
        {
          "output_type": "execute_result",
          "data": {
            "text/html": [
              "<div>\n",
              "<style scoped>\n",
              "    .dataframe tbody tr th:only-of-type {\n",
              "        vertical-align: middle;\n",
              "    }\n",
              "\n",
              "    .dataframe tbody tr th {\n",
              "        vertical-align: top;\n",
              "    }\n",
              "\n",
              "    .dataframe thead th {\n",
              "        text-align: right;\n",
              "    }\n",
              "</style>\n",
              "<table border=\"1\" class=\"dataframe\">\n",
              "  <thead>\n",
              "    <tr style=\"text-align: right;\">\n",
              "      <th></th>\n",
              "      <th>Date</th>\n",
              "      <th>Headlines</th>\n",
              "      <th>Close</th>\n",
              "      <th>Volume</th>\n",
              "      <th>Open</th>\n",
              "      <th>High</th>\n",
              "      <th>Low</th>\n",
              "    </tr>\n",
              "  </thead>\n",
              "  <tbody>\n",
              "    <tr>\n",
              "      <th>0</th>\n",
              "      <td>2015-04-01</td>\n",
              "      <td>Donald Yacktman on the Sources of Moats, His C...</td>\n",
              "      <td>$81.665</td>\n",
              "      <td>22028080</td>\n",
              "      <td>$82.5</td>\n",
              "      <td>$82.72</td>\n",
              "      <td>$80.87</td>\n",
              "    </tr>\n",
              "    <tr>\n",
              "      <th>1</th>\n",
              "      <td>2015-05-01</td>\n",
              "      <td>SIM-free iPhone 6, 6 Plus reportedly debuting ...</td>\n",
              "      <td>$78.99</td>\n",
              "      <td>22811310</td>\n",
              "      <td>$79.24</td>\n",
              "      <td>$79.76</td>\n",
              "      <td>$78.11</td>\n",
              "    </tr>\n",
              "    <tr>\n",
              "      <th>2</th>\n",
              "      <td>2015-06-01</td>\n",
              "      <td>Technology Transforming Cars Into \"Phones On W...</td>\n",
              "      <td>$80.29</td>\n",
              "      <td>18106110</td>\n",
              "      <td>$79.3</td>\n",
              "      <td>$80.38</td>\n",
              "      <td>$78.66</td>\n",
              "    </tr>\n",
              "    <tr>\n",
              "      <th>3</th>\n",
              "      <td>2015-07-01</td>\n",
              "      <td>Apple issues fourth developer beta of OS X 10....</td>\n",
              "      <td>$86.91</td>\n",
              "      <td>25198260</td>\n",
              "      <td>$86.77</td>\n",
              "      <td>$87.95</td>\n",
              "      <td>$86.49</td>\n",
              "    </tr>\n",
              "    <tr>\n",
              "      <th>4</th>\n",
              "      <td>2015-09-01</td>\n",
              "      <td>Samsung is reportedly making a secret new chip...</td>\n",
              "      <td>$87.23</td>\n",
              "      <td>35958020</td>\n",
              "      <td>$86.85</td>\n",
              "      <td>$89.39</td>\n",
              "      <td>$86.5</td>\n",
              "    </tr>\n",
              "    <tr>\n",
              "      <th>...</th>\n",
              "      <td>...</td>\n",
              "      <td>...</td>\n",
              "      <td>...</td>\n",
              "      <td>...</td>\n",
              "      <td>...</td>\n",
              "      <td>...</td>\n",
              "      <td>...</td>\n",
              "    </tr>\n",
              "    <tr>\n",
              "      <th>1590</th>\n",
              "      <td>2021-05-27</td>\n",
              "      <td>&amp;quot;Friends: The Reunion&amp;quot;: The Best Non...</td>\n",
              "      <td>$332.75</td>\n",
              "      <td>20477730</td>\n",
              "      <td>$328</td>\n",
              "      <td>$333.78</td>\n",
              "      <td>$326.76</td>\n",
              "    </tr>\n",
              "    <tr>\n",
              "      <th>1591</th>\n",
              "      <td>2021-05-28</td>\n",
              "      <td>Apple pushes back launch of podcast subscripti...</td>\n",
              "      <td>$328.73</td>\n",
              "      <td>12037430</td>\n",
              "      <td>$331</td>\n",
              "      <td>$332.8684</td>\n",
              "      <td>$328.33</td>\n",
              "    </tr>\n",
              "    <tr>\n",
              "      <th>1592</th>\n",
              "      <td>2021-01-06</td>\n",
              "      <td>Judge dismisses charges against Apple security...</td>\n",
              "      <td>$263.31</td>\n",
              "      <td>24354150</td>\n",
              "      <td>$262</td>\n",
              "      <td>$267.75</td>\n",
              "      <td>$260.01</td>\n",
              "    </tr>\n",
              "    <tr>\n",
              "      <th>1593</th>\n",
              "      <td>2021-04-06</td>\n",
              "      <td>Global equities nearly grasp all-time record, ...</td>\n",
              "      <td>$306.26</td>\n",
              "      <td>17335250</td>\n",
              "      <td>$308.837</td>\n",
              "      <td>$311.35</td>\n",
              "      <td>$305.25</td>\n",
              "    </tr>\n",
              "    <tr>\n",
              "      <th>1594</th>\n",
              "      <td>2021-05-06</td>\n",
              "      <td>Apple employees want more remote-work flexibil...</td>\n",
              "      <td>$320.02</td>\n",
              "      <td>19012240</td>\n",
              "      <td>$314.52</td>\n",
              "      <td>$320.24</td>\n",
              "      <td>$313.275</td>\n",
              "    </tr>\n",
              "  </tbody>\n",
              "</table>\n",
              "<p>1595 rows × 7 columns</p>\n",
              "</div>"
            ],
            "text/plain": [
              "           Date  ...       Low\n",
              "0    2015-04-01  ...    $80.87\n",
              "1    2015-05-01  ...    $78.11\n",
              "2    2015-06-01  ...    $78.66\n",
              "3    2015-07-01  ...    $86.49\n",
              "4    2015-09-01  ...     $86.5\n",
              "...         ...  ...       ...\n",
              "1590 2021-05-27  ...   $326.76\n",
              "1591 2021-05-28  ...   $328.33\n",
              "1592 2021-01-06  ...   $260.01\n",
              "1593 2021-04-06  ...   $305.25\n",
              "1594 2021-05-06  ...  $313.275\n",
              "\n",
              "[1595 rows x 7 columns]"
            ]
          },
          "metadata": {
            "tags": []
          },
          "execution_count": 312
        }
      ]
    },
    {
      "cell_type": "code",
      "metadata": {
        "id": "jLpvbi-JgRKf"
      },
      "source": [
        "data[\"Close\"] = data[\"Close\"].str.replace('$', '').astype(float)\n",
        "data[\"Open\"] = data[\"Open\"].str.replace('$', '').astype(float)\n",
        "data[\"High\"] = data[\"High\"].str.replace('$', '').astype(float)\n",
        "data[\"Low\"] = data[\"Low\"].str.replace('$', '').astype(float)"
      ],
      "execution_count": 313,
      "outputs": []
    },
    {
      "cell_type": "code",
      "metadata": {
        "colab": {
          "base_uri": "https://localhost:8080/",
          "height": 203
        },
        "id": "WZsoFRCbgTqH",
        "outputId": "a26ed982-0fe5-42ed-cd09-8c094f6ae837"
      },
      "source": [
        "data.head()"
      ],
      "execution_count": 314,
      "outputs": [
        {
          "output_type": "execute_result",
          "data": {
            "text/html": [
              "<div>\n",
              "<style scoped>\n",
              "    .dataframe tbody tr th:only-of-type {\n",
              "        vertical-align: middle;\n",
              "    }\n",
              "\n",
              "    .dataframe tbody tr th {\n",
              "        vertical-align: top;\n",
              "    }\n",
              "\n",
              "    .dataframe thead th {\n",
              "        text-align: right;\n",
              "    }\n",
              "</style>\n",
              "<table border=\"1\" class=\"dataframe\">\n",
              "  <thead>\n",
              "    <tr style=\"text-align: right;\">\n",
              "      <th></th>\n",
              "      <th>Date</th>\n",
              "      <th>Headlines</th>\n",
              "      <th>Close</th>\n",
              "      <th>Volume</th>\n",
              "      <th>Open</th>\n",
              "      <th>High</th>\n",
              "      <th>Low</th>\n",
              "    </tr>\n",
              "  </thead>\n",
              "  <tbody>\n",
              "    <tr>\n",
              "      <th>0</th>\n",
              "      <td>2015-04-01</td>\n",
              "      <td>Donald Yacktman on the Sources of Moats, His C...</td>\n",
              "      <td>81.665</td>\n",
              "      <td>22028080</td>\n",
              "      <td>82.50</td>\n",
              "      <td>82.72</td>\n",
              "      <td>80.87</td>\n",
              "    </tr>\n",
              "    <tr>\n",
              "      <th>1</th>\n",
              "      <td>2015-05-01</td>\n",
              "      <td>SIM-free iPhone 6, 6 Plus reportedly debuting ...</td>\n",
              "      <td>78.990</td>\n",
              "      <td>22811310</td>\n",
              "      <td>79.24</td>\n",
              "      <td>79.76</td>\n",
              "      <td>78.11</td>\n",
              "    </tr>\n",
              "    <tr>\n",
              "      <th>2</th>\n",
              "      <td>2015-06-01</td>\n",
              "      <td>Technology Transforming Cars Into \"Phones On W...</td>\n",
              "      <td>80.290</td>\n",
              "      <td>18106110</td>\n",
              "      <td>79.30</td>\n",
              "      <td>80.38</td>\n",
              "      <td>78.66</td>\n",
              "    </tr>\n",
              "    <tr>\n",
              "      <th>3</th>\n",
              "      <td>2015-07-01</td>\n",
              "      <td>Apple issues fourth developer beta of OS X 10....</td>\n",
              "      <td>86.910</td>\n",
              "      <td>25198260</td>\n",
              "      <td>86.77</td>\n",
              "      <td>87.95</td>\n",
              "      <td>86.49</td>\n",
              "    </tr>\n",
              "    <tr>\n",
              "      <th>4</th>\n",
              "      <td>2015-09-01</td>\n",
              "      <td>Samsung is reportedly making a secret new chip...</td>\n",
              "      <td>87.230</td>\n",
              "      <td>35958020</td>\n",
              "      <td>86.85</td>\n",
              "      <td>89.39</td>\n",
              "      <td>86.50</td>\n",
              "    </tr>\n",
              "  </tbody>\n",
              "</table>\n",
              "</div>"
            ],
            "text/plain": [
              "        Date                                          Headlines  ...   High    Low\n",
              "0 2015-04-01  Donald Yacktman on the Sources of Moats, His C...  ...  82.72  80.87\n",
              "1 2015-05-01  SIM-free iPhone 6, 6 Plus reportedly debuting ...  ...  79.76  78.11\n",
              "2 2015-06-01  Technology Transforming Cars Into \"Phones On W...  ...  80.38  78.66\n",
              "3 2015-07-01  Apple issues fourth developer beta of OS X 10....  ...  87.95  86.49\n",
              "4 2015-09-01  Samsung is reportedly making a secret new chip...  ...  89.39  86.50\n",
              "\n",
              "[5 rows x 7 columns]"
            ]
          },
          "metadata": {
            "tags": []
          },
          "execution_count": 314
        }
      ]
    },
    {
      "cell_type": "code",
      "metadata": {
        "id": "cLgK4rL3jKOh"
      },
      "source": [
        "data.reset_index(inplace=True)\n",
        "data_1=data[[\"Date\",\"Close\"]]"
      ],
      "execution_count": 315,
      "outputs": []
    },
    {
      "cell_type": "code",
      "metadata": {
        "id": "l7nvDEQwjLAW"
      },
      "source": [
        "data_1=data[[\"Date\",\"Close\"]]"
      ],
      "execution_count": 316,
      "outputs": []
    },
    {
      "cell_type": "code",
      "metadata": {
        "id": "EX9KB4JTjRps"
      },
      "source": [
        "data_1=data_1.rename(columns={\"Date\": \"ds\", \"Close\": \"y\"})"
      ],
      "execution_count": 317,
      "outputs": []
    },
    {
      "cell_type": "code",
      "metadata": {
        "colab": {
          "base_uri": "https://localhost:8080/",
          "height": 203
        },
        "id": "bsc1T9RYjUKk",
        "outputId": "249e123f-e689-4383-a3d7-e021a0130445"
      },
      "source": [
        "data_1.head()"
      ],
      "execution_count": 318,
      "outputs": [
        {
          "output_type": "execute_result",
          "data": {
            "text/html": [
              "<div>\n",
              "<style scoped>\n",
              "    .dataframe tbody tr th:only-of-type {\n",
              "        vertical-align: middle;\n",
              "    }\n",
              "\n",
              "    .dataframe tbody tr th {\n",
              "        vertical-align: top;\n",
              "    }\n",
              "\n",
              "    .dataframe thead th {\n",
              "        text-align: right;\n",
              "    }\n",
              "</style>\n",
              "<table border=\"1\" class=\"dataframe\">\n",
              "  <thead>\n",
              "    <tr style=\"text-align: right;\">\n",
              "      <th></th>\n",
              "      <th>ds</th>\n",
              "      <th>y</th>\n",
              "    </tr>\n",
              "  </thead>\n",
              "  <tbody>\n",
              "    <tr>\n",
              "      <th>0</th>\n",
              "      <td>2015-04-01</td>\n",
              "      <td>81.665</td>\n",
              "    </tr>\n",
              "    <tr>\n",
              "      <th>1</th>\n",
              "      <td>2015-05-01</td>\n",
              "      <td>78.990</td>\n",
              "    </tr>\n",
              "    <tr>\n",
              "      <th>2</th>\n",
              "      <td>2015-06-01</td>\n",
              "      <td>80.290</td>\n",
              "    </tr>\n",
              "    <tr>\n",
              "      <th>3</th>\n",
              "      <td>2015-07-01</td>\n",
              "      <td>86.910</td>\n",
              "    </tr>\n",
              "    <tr>\n",
              "      <th>4</th>\n",
              "      <td>2015-09-01</td>\n",
              "      <td>87.230</td>\n",
              "    </tr>\n",
              "  </tbody>\n",
              "</table>\n",
              "</div>"
            ],
            "text/plain": [
              "          ds       y\n",
              "0 2015-04-01  81.665\n",
              "1 2015-05-01  78.990\n",
              "2 2015-06-01  80.290\n",
              "3 2015-07-01  86.910\n",
              "4 2015-09-01  87.230"
            ]
          },
          "metadata": {
            "tags": []
          },
          "execution_count": 318
        }
      ]
    },
    {
      "cell_type": "markdown",
      "metadata": {
        "id": "48uTYCioBcnZ"
      },
      "source": [
        "**Prophet model**:Prophet is a procedure for forecasting time series data based on an additive model where non-linear trends are fit with yearly, weekly, and daily seasonality, plus holiday effects. It works best with time series that have strong seasonal effects and several seasons of historical data."
      ]
    },
    {
      "cell_type": "code",
      "metadata": {
        "colab": {
          "base_uri": "https://localhost:8080/"
        },
        "id": "mqKCtVLCjXI_",
        "outputId": "563cb297-ad83-40dc-a47b-31a2a3599750"
      },
      "source": [
        "from fbprophet import Prophet\n",
        "m = Prophet(daily_seasonality = True) # the Prophet class (model)\n",
        "m.fit(data_1) "
      ],
      "execution_count": 319,
      "outputs": [
        {
          "output_type": "execute_result",
          "data": {
            "text/plain": [
              "<fbprophet.forecaster.Prophet at 0x7f57ed29e050>"
            ]
          },
          "metadata": {
            "tags": []
          },
          "execution_count": 319
        }
      ]
    },
    {
      "cell_type": "code",
      "metadata": {
        "colab": {
          "base_uri": "https://localhost:8080/",
          "height": 456
        },
        "id": "UeZvHN5OjYxU",
        "outputId": "6ece94b9-133c-492d-cd2f-288ce7f06386"
      },
      "source": [
        "future = m.make_future_dataframe(periods=365) #we need to specify the number of days in future\n",
        "prediction = m.predict(future)\n",
        "m.plot(prediction)\n",
        "plt.title(\"Prediction of the Facebook Stock Price using the Prophet\")\n",
        "plt.xlabel(\"Date\")\n",
        "plt.ylabel(\"Close Stock Price\")\n",
        "plt.show()"
      ],
      "execution_count": 320,
      "outputs": [
        {
          "output_type": "display_data",
          "data": {
            "image/png": "[encoded data removed]",
            "text/plain": [
              "<Figure size 720x432 with 1 Axes>"
            ]
          },
          "metadata": {
            "tags": []
          }
        }
      ]
    },
    {
      "cell_type": "code",
      "metadata": {
        "colab": {
          "base_uri": "https://localhost:8080/",
          "height": 875
        },
        "id": "5UxDaC8mjbcq",
        "outputId": "894d49ad-3a78-43a3-af08-2e8380b527f3"
      },
      "source": [
        "m.plot_components(prediction)\n",
        "plt.show()"
      ],
      "execution_count": 321,
      "outputs": [
        {
          "output_type": "display_data",
          "data": {
            "image/png": "[encoded data removed]",
            "text/plain": [
              "<Figure size 648x864 with 4 Axes>"
            ]
          },
          "metadata": {
            "tags": []
          }
        }
      ]
    },
    {
      "cell_type": "code",
      "metadata": {
        "colab": {
          "base_uri": "https://localhost:8080/",
          "height": 234
        },
        "id": "L8SHv46-gV3r",
        "outputId": "8f32c53c-e952-4800-cef7-eb5ff09bdce2"
      },
      "source": [
        "data.set_index(\"Date\", inplace = True)\n",
        "data.head()"
      ],
      "execution_count": 322,
      "outputs": [
        {
          "output_type": "execute_result",
          "data": {
            "text/html": [
              "<div>\n",
              "<style scoped>\n",
              "    .dataframe tbody tr th:only-of-type {\n",
              "        vertical-align: middle;\n",
              "    }\n",
              "\n",
              "    .dataframe tbody tr th {\n",
              "        vertical-align: top;\n",
              "    }\n",
              "\n",
              "    .dataframe thead th {\n",
              "        text-align: right;\n",
              "    }\n",
              "</style>\n",
              "<table border=\"1\" class=\"dataframe\">\n",
              "  <thead>\n",
              "    <tr style=\"text-align: right;\">\n",
              "      <th></th>\n",
              "      <th>index</th>\n",
              "      <th>Headlines</th>\n",
              "      <th>Close</th>\n",
              "      <th>Volume</th>\n",
              "      <th>Open</th>\n",
              "      <th>High</th>\n",
              "      <th>Low</th>\n",
              "    </tr>\n",
              "    <tr>\n",
              "      <th>Date</th>\n",
              "      <th></th>\n",
              "      <th></th>\n",
              "      <th></th>\n",
              "      <th></th>\n",
              "      <th></th>\n",
              "      <th></th>\n",
              "      <th></th>\n",
              "    </tr>\n",
              "  </thead>\n",
              "  <tbody>\n",
              "    <tr>\n",
              "      <th>2015-04-01</th>\n",
              "      <td>0</td>\n",
              "      <td>Donald Yacktman on the Sources of Moats, His C...</td>\n",
              "      <td>81.665</td>\n",
              "      <td>22028080</td>\n",
              "      <td>82.50</td>\n",
              "      <td>82.72</td>\n",
              "      <td>80.87</td>\n",
              "    </tr>\n",
              "    <tr>\n",
              "      <th>2015-05-01</th>\n",
              "      <td>1</td>\n",
              "      <td>SIM-free iPhone 6, 6 Plus reportedly debuting ...</td>\n",
              "      <td>78.990</td>\n",
              "      <td>22811310</td>\n",
              "      <td>79.24</td>\n",
              "      <td>79.76</td>\n",
              "      <td>78.11</td>\n",
              "    </tr>\n",
              "    <tr>\n",
              "      <th>2015-06-01</th>\n",
              "      <td>2</td>\n",
              "      <td>Technology Transforming Cars Into \"Phones On W...</td>\n",
              "      <td>80.290</td>\n",
              "      <td>18106110</td>\n",
              "      <td>79.30</td>\n",
              "      <td>80.38</td>\n",
              "      <td>78.66</td>\n",
              "    </tr>\n",
              "    <tr>\n",
              "      <th>2015-07-01</th>\n",
              "      <td>3</td>\n",
              "      <td>Apple issues fourth developer beta of OS X 10....</td>\n",
              "      <td>86.910</td>\n",
              "      <td>25198260</td>\n",
              "      <td>86.77</td>\n",
              "      <td>87.95</td>\n",
              "      <td>86.49</td>\n",
              "    </tr>\n",
              "    <tr>\n",
              "      <th>2015-09-01</th>\n",
              "      <td>4</td>\n",
              "      <td>Samsung is reportedly making a secret new chip...</td>\n",
              "      <td>87.230</td>\n",
              "      <td>35958020</td>\n",
              "      <td>86.85</td>\n",
              "      <td>89.39</td>\n",
              "      <td>86.50</td>\n",
              "    </tr>\n",
              "  </tbody>\n",
              "</table>\n",
              "</div>"
            ],
            "text/plain": [
              "            index  ...    Low\n",
              "Date               ...       \n",
              "2015-04-01      0  ...  80.87\n",
              "2015-05-01      1  ...  78.11\n",
              "2015-06-01      2  ...  78.66\n",
              "2015-07-01      3  ...  86.49\n",
              "2015-09-01      4  ...  86.50\n",
              "\n",
              "[5 rows x 7 columns]"
            ]
          },
          "metadata": {
            "tags": []
          },
          "execution_count": 322
        }
      ]
    },
    {
      "cell_type": "code",
      "metadata": {
        "colab": {
          "base_uri": "https://localhost:8080/",
          "height": 234
        },
        "id": "GXnSxz2RgaHg",
        "outputId": "22e24a19-6062-42f7-b823-572b9f0d2470"
      },
      "source": [
        "data.sort_index(ascending=True,inplace=True)\n",
        "data.head()"
      ],
      "execution_count": 323,
      "outputs": [
        {
          "output_type": "execute_result",
          "data": {
            "text/html": [
              "<div>\n",
              "<style scoped>\n",
              "    .dataframe tbody tr th:only-of-type {\n",
              "        vertical-align: middle;\n",
              "    }\n",
              "\n",
              "    .dataframe tbody tr th {\n",
              "        vertical-align: top;\n",
              "    }\n",
              "\n",
              "    .dataframe thead th {\n",
              "        text-align: right;\n",
              "    }\n",
              "</style>\n",
              "<table border=\"1\" class=\"dataframe\">\n",
              "  <thead>\n",
              "    <tr style=\"text-align: right;\">\n",
              "      <th></th>\n",
              "      <th>index</th>\n",
              "      <th>Headlines</th>\n",
              "      <th>Close</th>\n",
              "      <th>Volume</th>\n",
              "      <th>Open</th>\n",
              "      <th>High</th>\n",
              "      <th>Low</th>\n",
              "    </tr>\n",
              "    <tr>\n",
              "      <th>Date</th>\n",
              "      <th></th>\n",
              "      <th></th>\n",
              "      <th></th>\n",
              "      <th></th>\n",
              "      <th></th>\n",
              "      <th></th>\n",
              "      <th></th>\n",
              "    </tr>\n",
              "  </thead>\n",
              "  <tbody>\n",
              "    <tr>\n",
              "      <th>2015-01-02</th>\n",
              "      <td>20</td>\n",
              "      <td>Apple Loop: iOS 8.1.3 Angers Users, Outlook Ar...</td>\n",
              "      <td>78.450</td>\n",
              "      <td>18141830</td>\n",
              "      <td>78.58</td>\n",
              "      <td>78.9300</td>\n",
              "      <td>77.700</td>\n",
              "    </tr>\n",
              "    <tr>\n",
              "      <th>2015-01-05</th>\n",
              "      <td>82</td>\n",
              "      <td>Apple Watch interest described as &amp;quot;tepid,...</td>\n",
              "      <td>77.190</td>\n",
              "      <td>26392340</td>\n",
              "      <td>77.98</td>\n",
              "      <td>79.2455</td>\n",
              "      <td>76.860</td>\n",
              "    </tr>\n",
              "    <tr>\n",
              "      <th>2015-01-06</th>\n",
              "      <td>102</td>\n",
              "      <td>Apple&amp;quot;s TV Service Delayed: Getting Local...</td>\n",
              "      <td>76.150</td>\n",
              "      <td>27365180</td>\n",
              "      <td>77.23</td>\n",
              "      <td>77.5900</td>\n",
              "      <td>75.365</td>\n",
              "    </tr>\n",
              "    <tr>\n",
              "      <th>2015-01-07</th>\n",
              "      <td>123</td>\n",
              "      <td>Apple Inc. leaks new iPod colors in iTunes 12....</td>\n",
              "      <td>76.150</td>\n",
              "      <td>22015250</td>\n",
              "      <td>76.76</td>\n",
              "      <td>77.3600</td>\n",
              "      <td>75.820</td>\n",
              "    </tr>\n",
              "    <tr>\n",
              "      <th>2015-01-08</th>\n",
              "      <td>145</td>\n",
              "      <td>Nomura Begins Coverage on Apple (AAPL) IBM cou...</td>\n",
              "      <td>78.175</td>\n",
              "      <td>23931830</td>\n",
              "      <td>76.74</td>\n",
              "      <td>78.2300</td>\n",
              "      <td>76.080</td>\n",
              "    </tr>\n",
              "  </tbody>\n",
              "</table>\n",
              "</div>"
            ],
            "text/plain": [
              "            index  ...     Low\n",
              "Date               ...        \n",
              "2015-01-02     20  ...  77.700\n",
              "2015-01-05     82  ...  76.860\n",
              "2015-01-06    102  ...  75.365\n",
              "2015-01-07    123  ...  75.820\n",
              "2015-01-08    145  ...  76.080\n",
              "\n",
              "[5 rows x 7 columns]"
            ]
          },
          "metadata": {
            "tags": []
          },
          "execution_count": 323
        }
      ]
    },
    {
      "cell_type": "code",
      "metadata": {
        "colab": {
          "base_uri": "https://localhost:8080/"
        },
        "id": "prpoGJORgcbb",
        "outputId": "1eb2a12a-0ed6-4953-aa0d-4f1fb3c5001e"
      },
      "source": [
        "data.shape"
      ],
      "execution_count": 324,
      "outputs": [
        {
          "output_type": "execute_result",
          "data": {
            "text/plain": [
              "(1595, 7)"
            ]
          },
          "metadata": {
            "tags": []
          },
          "execution_count": 324
        }
      ]
    },
    {
      "cell_type": "code",
      "metadata": {
        "colab": {
          "base_uri": "https://localhost:8080/",
          "height": 579
        },
        "id": "d1cmnNa4gesl",
        "outputId": "f2b9405f-58cd-4919-ef46-51beb3bb610c"
      },
      "source": [
        "plt.figure(figsize=(16,9))\n",
        "plt.title('Close Price History of Facebook', fontsize = 20)\n",
        "plt.plot(data['Close'])\n",
        "plt.xlabel('Date', fontsize = 16, color = 'g')\n",
        "plt.ylabel('Close Price USD ($)', fontsize = 16, color = 'g')\n",
        "plt.xticks(fontsize = 12)\n",
        "plt.yticks(fontsize = 12)\n",
        "plt.show()"
      ],
      "execution_count": 325,
      "outputs": [
        {
          "output_type": "display_data",
          "data": {
            "image/png": "[encoded data removed]",
            "text/plain": [
              "<Figure size 1152x648 with 1 Axes>"
            ]
          },
          "metadata": {
            "tags": []
          }
        }
      ]
    },
    {
      "cell_type": "code",
      "metadata": {
        "id": "WWWO-PergiYt"
      },
      "source": [
        "import os"
      ],
      "execution_count": 326,
      "outputs": []
    },
    {
      "cell_type": "code",
      "metadata": {
        "id": "t3mTs-WkgkmY"
      },
      "source": [
        "data.to_csv('NewsandHistoricaldata.csv')"
      ],
      "execution_count": 327,
      "outputs": []
    },
    {
      "cell_type": "code",
      "metadata": {
        "colab": {
          "base_uri": "https://localhost:8080/",
          "height": 35
        },
        "id": "ExVBp09tgnWW",
        "outputId": "f2180e91-8b7a-4ec4-ed9f-5567b17cf559"
      },
      "source": [
        "os.getcwd()"
      ],
      "execution_count": 328,
      "outputs": [
        {
          "output_type": "execute_result",
          "data": {
            "application/vnd.google.colaboratory.intrinsic+json": {
              "type": "string"
            },
            "text/plain": [
              "'/content'"
            ]
          },
          "metadata": {
            "tags": []
          },
          "execution_count": 328
        }
      ]
    },
    {
      "cell_type": "markdown",
      "metadata": {
        "id": "Lq6l2TinCEbR"
      },
      "source": [
        "**SENTIMENT ANALYSIS**"
      ]
    },
    {
      "cell_type": "code",
      "metadata": {
        "colab": {
          "base_uri": "https://localhost:8080/",
          "height": 234
        },
        "id": "lY_G8rlegpgD",
        "outputId": "ba3c71ee-3a02-4ddd-8bd8-0f26f649d92f"
      },
      "source": [
        "data['compound'] = ''\n",
        "data['negative'] = ''\n",
        "data['neutral'] = ''\n",
        "data['positive'] = ''\n",
        "data.head()"
      ],
      "execution_count": 329,
      "outputs": [
        {
          "output_type": "execute_result",
          "data": {
            "text/html": [
              "<div>\n",
              "<style scoped>\n",
              "    .dataframe tbody tr th:only-of-type {\n",
              "        vertical-align: middle;\n",
              "    }\n",
              "\n",
              "    .dataframe tbody tr th {\n",
              "        vertical-align: top;\n",
              "    }\n",
              "\n",
              "    .dataframe thead th {\n",
              "        text-align: right;\n",
              "    }\n",
              "</style>\n",
              "<table border=\"1\" class=\"dataframe\">\n",
              "  <thead>\n",
              "    <tr style=\"text-align: right;\">\n",
              "      <th></th>\n",
              "      <th>index</th>\n",
              "      <th>Headlines</th>\n",
              "      <th>Close</th>\n",
              "      <th>Volume</th>\n",
              "      <th>Open</th>\n",
              "      <th>High</th>\n",
              "      <th>Low</th>\n",
              "      <th>compound</th>\n",
              "      <th>negative</th>\n",
              "      <th>neutral</th>\n",
              "      <th>positive</th>\n",
              "    </tr>\n",
              "    <tr>\n",
              "      <th>Date</th>\n",
              "      <th></th>\n",
              "      <th></th>\n",
              "      <th></th>\n",
              "      <th></th>\n",
              "      <th></th>\n",
              "      <th></th>\n",
              "      <th></th>\n",
              "      <th></th>\n",
              "      <th></th>\n",
              "      <th></th>\n",
              "      <th></th>\n",
              "    </tr>\n",
              "  </thead>\n",
              "  <tbody>\n",
              "    <tr>\n",
              "      <th>2015-01-02</th>\n",
              "      <td>20</td>\n",
              "      <td>Apple Loop: iOS 8.1.3 Angers Users, Outlook Ar...</td>\n",
              "      <td>78.450</td>\n",
              "      <td>18141830</td>\n",
              "      <td>78.58</td>\n",
              "      <td>78.9300</td>\n",
              "      <td>77.700</td>\n",
              "      <td></td>\n",
              "      <td></td>\n",
              "      <td></td>\n",
              "      <td></td>\n",
              "    </tr>\n",
              "    <tr>\n",
              "      <th>2015-01-05</th>\n",
              "      <td>82</td>\n",
              "      <td>Apple Watch interest described as &amp;quot;tepid,...</td>\n",
              "      <td>77.190</td>\n",
              "      <td>26392340</td>\n",
              "      <td>77.98</td>\n",
              "      <td>79.2455</td>\n",
              "      <td>76.860</td>\n",
              "      <td></td>\n",
              "      <td></td>\n",
              "      <td></td>\n",
              "      <td></td>\n",
              "    </tr>\n",
              "    <tr>\n",
              "      <th>2015-01-06</th>\n",
              "      <td>102</td>\n",
              "      <td>Apple&amp;quot;s TV Service Delayed: Getting Local...</td>\n",
              "      <td>76.150</td>\n",
              "      <td>27365180</td>\n",
              "      <td>77.23</td>\n",
              "      <td>77.5900</td>\n",
              "      <td>75.365</td>\n",
              "      <td></td>\n",
              "      <td></td>\n",
              "      <td></td>\n",
              "      <td></td>\n",
              "    </tr>\n",
              "    <tr>\n",
              "      <th>2015-01-07</th>\n",
              "      <td>123</td>\n",
              "      <td>Apple Inc. leaks new iPod colors in iTunes 12....</td>\n",
              "      <td>76.150</td>\n",
              "      <td>22015250</td>\n",
              "      <td>76.76</td>\n",
              "      <td>77.3600</td>\n",
              "      <td>75.820</td>\n",
              "      <td></td>\n",
              "      <td></td>\n",
              "      <td></td>\n",
              "      <td></td>\n",
              "    </tr>\n",
              "    <tr>\n",
              "      <th>2015-01-08</th>\n",
              "      <td>145</td>\n",
              "      <td>Nomura Begins Coverage on Apple (AAPL) IBM cou...</td>\n",
              "      <td>78.175</td>\n",
              "      <td>23931830</td>\n",
              "      <td>76.74</td>\n",
              "      <td>78.2300</td>\n",
              "      <td>76.080</td>\n",
              "      <td></td>\n",
              "      <td></td>\n",
              "      <td></td>\n",
              "      <td></td>\n",
              "    </tr>\n",
              "  </tbody>\n",
              "</table>\n",
              "</div>"
            ],
            "text/plain": [
              "            index  ... positive\n",
              "Date               ...         \n",
              "2015-01-02     20  ...         \n",
              "2015-01-05     82  ...         \n",
              "2015-01-06    102  ...         \n",
              "2015-01-07    123  ...         \n",
              "2015-01-08    145  ...         \n",
              "\n",
              "[5 rows x 11 columns]"
            ]
          },
          "metadata": {
            "tags": []
          },
          "execution_count": 329
        }
      ]
    },
    {
      "cell_type": "code",
      "metadata": {
        "colab": {
          "base_uri": "https://localhost:8080/"
        },
        "id": "2j6K7qRhgsvP",
        "outputId": "baae7ddf-d5d4-4a3f-e25f-785cbd82f2d3"
      },
      "source": [
        "import nltk\n",
        "nltk.download('vader_lexicon')"
      ],
      "execution_count": 330,
      "outputs": [
        {
          "output_type": "stream",
          "text": [
            "[nltk_data] Downloading package vader_lexicon to /root/nltk_data...\n",
            "[nltk_data]   Package vader_lexicon is already up-to-date!\n"
          ],
          "name": "stdout"
        },
        {
          "output_type": "execute_result",
          "data": {
            "text/plain": [
              "True"
            ]
          },
          "metadata": {
            "tags": []
          },
          "execution_count": 330
        }
      ]
    },
    {
      "cell_type": "code",
      "metadata": {
        "colab": {
          "base_uri": "https://localhost:8080/",
          "height": 234
        },
        "id": "wkoVYxtwgutF",
        "outputId": "f35ddcbe-adf4-4f1f-96b9-a7c6f8ee5a66"
      },
      "source": [
        "from nltk.sentiment.vader import SentimentIntensityAnalyzer\n",
        "import unicodedata\n",
        "\n",
        "\n",
        "sid = SentimentIntensityAnalyzer()\n",
        "\n",
        "data['compound'] = data['Headlines'].apply(lambda x: sid.polarity_scores(x)['compound'])\n",
        "data['negative'] = data['Headlines'].apply(lambda x: sid.polarity_scores(x)['neg'])\n",
        "data['neutral'] = data['Headlines'].apply(lambda x: sid.polarity_scores(x)['neu'])\n",
        "data['positive'] = data['Headlines'].apply(lambda x: sid.polarity_scores(x)['pos'])\n",
        "\n",
        "\n",
        "data.head()"
      ],
      "execution_count": 331,
      "outputs": [
        {
          "output_type": "execute_result",
          "data": {
            "text/html": [
              "<div>\n",
              "<style scoped>\n",
              "    .dataframe tbody tr th:only-of-type {\n",
              "        vertical-align: middle;\n",
              "    }\n",
              "\n",
              "    .dataframe tbody tr th {\n",
              "        vertical-align: top;\n",
              "    }\n",
              "\n",
              "    .dataframe thead th {\n",
              "        text-align: right;\n",
              "    }\n",
              "</style>\n",
              "<table border=\"1\" class=\"dataframe\">\n",
              "  <thead>\n",
              "    <tr style=\"text-align: right;\">\n",
              "      <th></th>\n",
              "      <th>index</th>\n",
              "      <th>Headlines</th>\n",
              "      <th>Close</th>\n",
              "      <th>Volume</th>\n",
              "      <th>Open</th>\n",
              "      <th>High</th>\n",
              "      <th>Low</th>\n",
              "      <th>compound</th>\n",
              "      <th>negative</th>\n",
              "      <th>neutral</th>\n",
              "      <th>positive</th>\n",
              "    </tr>\n",
              "    <tr>\n",
              "      <th>Date</th>\n",
              "      <th></th>\n",
              "      <th></th>\n",
              "      <th></th>\n",
              "      <th></th>\n",
              "      <th></th>\n",
              "      <th></th>\n",
              "      <th></th>\n",
              "      <th></th>\n",
              "      <th></th>\n",
              "      <th></th>\n",
              "      <th></th>\n",
              "    </tr>\n",
              "  </thead>\n",
              "  <tbody>\n",
              "    <tr>\n",
              "      <th>2015-01-02</th>\n",
              "      <td>20</td>\n",
              "      <td>Apple Loop: iOS 8.1.3 Angers Users, Outlook Ar...</td>\n",
              "      <td>78.450</td>\n",
              "      <td>18141830</td>\n",
              "      <td>78.58</td>\n",
              "      <td>78.9300</td>\n",
              "      <td>77.700</td>\n",
              "      <td>0.1943</td>\n",
              "      <td>0.116</td>\n",
              "      <td>0.749</td>\n",
              "      <td>0.135</td>\n",
              "    </tr>\n",
              "    <tr>\n",
              "      <th>2015-01-05</th>\n",
              "      <td>82</td>\n",
              "      <td>Apple Watch interest described as &amp;quot;tepid,...</td>\n",
              "      <td>77.190</td>\n",
              "      <td>26392340</td>\n",
              "      <td>77.98</td>\n",
              "      <td>79.2455</td>\n",
              "      <td>76.860</td>\n",
              "      <td>0.9748</td>\n",
              "      <td>0.061</td>\n",
              "      <td>0.831</td>\n",
              "      <td>0.107</td>\n",
              "    </tr>\n",
              "    <tr>\n",
              "      <th>2015-01-06</th>\n",
              "      <td>102</td>\n",
              "      <td>Apple&amp;quot;s TV Service Delayed: Getting Local...</td>\n",
              "      <td>76.150</td>\n",
              "      <td>27365180</td>\n",
              "      <td>77.23</td>\n",
              "      <td>77.5900</td>\n",
              "      <td>75.365</td>\n",
              "      <td>0.9932</td>\n",
              "      <td>0.034</td>\n",
              "      <td>0.862</td>\n",
              "      <td>0.105</td>\n",
              "    </tr>\n",
              "    <tr>\n",
              "      <th>2015-01-07</th>\n",
              "      <td>123</td>\n",
              "      <td>Apple Inc. leaks new iPod colors in iTunes 12....</td>\n",
              "      <td>76.150</td>\n",
              "      <td>22015250</td>\n",
              "      <td>76.76</td>\n",
              "      <td>77.3600</td>\n",
              "      <td>75.820</td>\n",
              "      <td>0.9866</td>\n",
              "      <td>0.059</td>\n",
              "      <td>0.812</td>\n",
              "      <td>0.129</td>\n",
              "    </tr>\n",
              "    <tr>\n",
              "      <th>2015-01-08</th>\n",
              "      <td>145</td>\n",
              "      <td>Nomura Begins Coverage on Apple (AAPL) IBM cou...</td>\n",
              "      <td>78.175</td>\n",
              "      <td>23931830</td>\n",
              "      <td>76.74</td>\n",
              "      <td>78.2300</td>\n",
              "      <td>76.080</td>\n",
              "      <td>0.4939</td>\n",
              "      <td>0.059</td>\n",
              "      <td>0.827</td>\n",
              "      <td>0.114</td>\n",
              "    </tr>\n",
              "  </tbody>\n",
              "</table>\n",
              "</div>"
            ],
            "text/plain": [
              "            index  ... positive\n",
              "Date               ...         \n",
              "2015-01-02     20  ...    0.135\n",
              "2015-01-05     82  ...    0.107\n",
              "2015-01-06    102  ...    0.105\n",
              "2015-01-07    123  ...    0.129\n",
              "2015-01-08    145  ...    0.114\n",
              "\n",
              "[5 rows x 11 columns]"
            ]
          },
          "metadata": {
            "tags": []
          },
          "execution_count": 331
        }
      ]
    },
    {
      "cell_type": "code",
      "metadata": {
        "colab": {
          "base_uri": "https://localhost:8080/",
          "height": 447
        },
        "id": "oxaOUlyyxkY2",
        "outputId": "7c24e508-7297-48ae-f916-68d2f8b919cd"
      },
      "source": [
        "data['label'] = 0\n",
        "data.loc[data['compound'] > 0.2, 'label'] = 1\n",
        "data.loc[data['compound'] < -0.2, 'label'] = -1\n",
        "data"
      ],
      "execution_count": 332,
      "outputs": [
        {
          "output_type": "execute_result",
          "data": {
            "text/html": [
              "<div>\n",
              "<style scoped>\n",
              "    .dataframe tbody tr th:only-of-type {\n",
              "        vertical-align: middle;\n",
              "    }\n",
              "\n",
              "    .dataframe tbody tr th {\n",
              "        vertical-align: top;\n",
              "    }\n",
              "\n",
              "    .dataframe thead th {\n",
              "        text-align: right;\n",
              "    }\n",
              "</style>\n",
              "<table border=\"1\" class=\"dataframe\">\n",
              "  <thead>\n",
              "    <tr style=\"text-align: right;\">\n",
              "      <th></th>\n",
              "      <th>index</th>\n",
              "      <th>Headlines</th>\n",
              "      <th>Close</th>\n",
              "      <th>Volume</th>\n",
              "      <th>Open</th>\n",
              "      <th>High</th>\n",
              "      <th>Low</th>\n",
              "      <th>compound</th>\n",
              "      <th>negative</th>\n",
              "      <th>neutral</th>\n",
              "      <th>positive</th>\n",
              "      <th>label</th>\n",
              "    </tr>\n",
              "    <tr>\n",
              "      <th>Date</th>\n",
              "      <th></th>\n",
              "      <th></th>\n",
              "      <th></th>\n",
              "      <th></th>\n",
              "      <th></th>\n",
              "      <th></th>\n",
              "      <th></th>\n",
              "      <th></th>\n",
              "      <th></th>\n",
              "      <th></th>\n",
              "      <th></th>\n",
              "      <th></th>\n",
              "    </tr>\n",
              "  </thead>\n",
              "  <tbody>\n",
              "    <tr>\n",
              "      <th>2015-01-02</th>\n",
              "      <td>20</td>\n",
              "      <td>Apple Loop: iOS 8.1.3 Angers Users, Outlook Ar...</td>\n",
              "      <td>78.450</td>\n",
              "      <td>18141830</td>\n",
              "      <td>78.58</td>\n",
              "      <td>78.9300</td>\n",
              "      <td>77.7000</td>\n",
              "      <td>0.1943</td>\n",
              "      <td>0.116</td>\n",
              "      <td>0.749</td>\n",
              "      <td>0.135</td>\n",
              "      <td>0</td>\n",
              "    </tr>\n",
              "    <tr>\n",
              "      <th>2015-01-05</th>\n",
              "      <td>82</td>\n",
              "      <td>Apple Watch interest described as &amp;quot;tepid,...</td>\n",
              "      <td>77.190</td>\n",
              "      <td>26392340</td>\n",
              "      <td>77.98</td>\n",
              "      <td>79.2455</td>\n",
              "      <td>76.8600</td>\n",
              "      <td>0.9748</td>\n",
              "      <td>0.061</td>\n",
              "      <td>0.831</td>\n",
              "      <td>0.107</td>\n",
              "      <td>1</td>\n",
              "    </tr>\n",
              "    <tr>\n",
              "      <th>2015-01-06</th>\n",
              "      <td>102</td>\n",
              "      <td>Apple&amp;quot;s TV Service Delayed: Getting Local...</td>\n",
              "      <td>76.150</td>\n",
              "      <td>27365180</td>\n",
              "      <td>77.23</td>\n",
              "      <td>77.5900</td>\n",
              "      <td>75.3650</td>\n",
              "      <td>0.9932</td>\n",
              "      <td>0.034</td>\n",
              "      <td>0.862</td>\n",
              "      <td>0.105</td>\n",
              "      <td>1</td>\n",
              "    </tr>\n",
              "    <tr>\n",
              "      <th>2015-01-07</th>\n",
              "      <td>123</td>\n",
              "      <td>Apple Inc. leaks new iPod colors in iTunes 12....</td>\n",
              "      <td>76.150</td>\n",
              "      <td>22015250</td>\n",
              "      <td>76.76</td>\n",
              "      <td>77.3600</td>\n",
              "      <td>75.8200</td>\n",
              "      <td>0.9866</td>\n",
              "      <td>0.059</td>\n",
              "      <td>0.812</td>\n",
              "      <td>0.129</td>\n",
              "      <td>1</td>\n",
              "    </tr>\n",
              "    <tr>\n",
              "      <th>2015-01-08</th>\n",
              "      <td>145</td>\n",
              "      <td>Nomura Begins Coverage on Apple (AAPL) IBM cou...</td>\n",
              "      <td>78.175</td>\n",
              "      <td>23931830</td>\n",
              "      <td>76.74</td>\n",
              "      <td>78.2300</td>\n",
              "      <td>76.0800</td>\n",
              "      <td>0.4939</td>\n",
              "      <td>0.059</td>\n",
              "      <td>0.827</td>\n",
              "      <td>0.114</td>\n",
              "      <td>1</td>\n",
              "    </tr>\n",
              "    <tr>\n",
              "      <th>...</th>\n",
              "      <td>...</td>\n",
              "      <td>...</td>\n",
              "      <td>...</td>\n",
              "      <td>...</td>\n",
              "      <td>...</td>\n",
              "      <td>...</td>\n",
              "      <td>...</td>\n",
              "      <td>...</td>\n",
              "      <td>...</td>\n",
              "      <td>...</td>\n",
              "      <td>...</td>\n",
              "      <td>...</td>\n",
              "    </tr>\n",
              "    <tr>\n",
              "      <th>2021-05-28</th>\n",
              "      <td>1591</td>\n",
              "      <td>Apple pushes back launch of podcast subscripti...</td>\n",
              "      <td>328.730</td>\n",
              "      <td>12037430</td>\n",
              "      <td>331.00</td>\n",
              "      <td>332.8684</td>\n",
              "      <td>328.3300</td>\n",
              "      <td>0.9937</td>\n",
              "      <td>0.049</td>\n",
              "      <td>0.845</td>\n",
              "      <td>0.105</td>\n",
              "      <td>1</td>\n",
              "    </tr>\n",
              "    <tr>\n",
              "      <th>2021-06-01</th>\n",
              "      <td>1514</td>\n",
              "      <td>TSX nears record high as cannabis, renewables ...</td>\n",
              "      <td>329.130</td>\n",
              "      <td>11765910</td>\n",
              "      <td>330.15</td>\n",
              "      <td>331.4200</td>\n",
              "      <td>326.6400</td>\n",
              "      <td>0.9976</td>\n",
              "      <td>0.046</td>\n",
              "      <td>0.836</td>\n",
              "      <td>0.118</td>\n",
              "      <td>1</td>\n",
              "    </tr>\n",
              "    <tr>\n",
              "      <th>2021-06-02</th>\n",
              "      <td>1529</td>\n",
              "      <td>Exclusive Social Media App Clubhouse Rises In ...</td>\n",
              "      <td>329.150</td>\n",
              "      <td>11654280</td>\n",
              "      <td>330.38</td>\n",
              "      <td>331.8700</td>\n",
              "      <td>327.1215</td>\n",
              "      <td>0.7719</td>\n",
              "      <td>0.070</td>\n",
              "      <td>0.835</td>\n",
              "      <td>0.095</td>\n",
              "      <td>1</td>\n",
              "    </tr>\n",
              "    <tr>\n",
              "      <th>2021-06-03</th>\n",
              "      <td>1542</td>\n",
              "      <td>Two Patents were fulfilled last week as the Ma...</td>\n",
              "      <td>326.040</td>\n",
              "      <td>12610790</td>\n",
              "      <td>325.78</td>\n",
              "      <td>327.3750</td>\n",
              "      <td>323.4800</td>\n",
              "      <td>-0.3348</td>\n",
              "      <td>0.074</td>\n",
              "      <td>0.857</td>\n",
              "      <td>0.069</td>\n",
              "      <td>-1</td>\n",
              "    </tr>\n",
              "    <tr>\n",
              "      <th>2021-06-04</th>\n",
              "      <td>1560</td>\n",
              "      <td>This Simple Stock Market Strategy Is Winning s...</td>\n",
              "      <td>330.350</td>\n",
              "      <td>13289380</td>\n",
              "      <td>325.90</td>\n",
              "      <td>332.4550</td>\n",
              "      <td>325.1800</td>\n",
              "      <td>0.9801</td>\n",
              "      <td>0.056</td>\n",
              "      <td>0.854</td>\n",
              "      <td>0.089</td>\n",
              "      <td>1</td>\n",
              "    </tr>\n",
              "  </tbody>\n",
              "</table>\n",
              "<p>1595 rows × 12 columns</p>\n",
              "</div>"
            ],
            "text/plain": [
              "            index  ... label\n",
              "Date               ...      \n",
              "2015-01-02     20  ...     0\n",
              "2015-01-05     82  ...     1\n",
              "2015-01-06    102  ...     1\n",
              "2015-01-07    123  ...     1\n",
              "2015-01-08    145  ...     1\n",
              "...           ...  ...   ...\n",
              "2021-05-28   1591  ...     1\n",
              "2021-06-01   1514  ...     1\n",
              "2021-06-02   1529  ...     1\n",
              "2021-06-03   1542  ...    -1\n",
              "2021-06-04   1560  ...     1\n",
              "\n",
              "[1595 rows x 12 columns]"
            ]
          },
          "metadata": {
            "tags": []
          },
          "execution_count": 332
        }
      ]
    },
    {
      "cell_type": "code",
      "metadata": {
        "colab": {
          "base_uri": "https://localhost:8080/",
          "height": 447
        },
        "id": "KbrKzNPrxn3m",
        "outputId": "c204c0a1-9a38-458b-dd46-94e5459599b2"
      },
      "source": [
        "data.drop(['label'], axis = 1)"
      ],
      "execution_count": 333,
      "outputs": [
        {
          "output_type": "execute_result",
          "data": {
            "text/html": [
              "<div>\n",
              "<style scoped>\n",
              "    .dataframe tbody tr th:only-of-type {\n",
              "        vertical-align: middle;\n",
              "    }\n",
              "\n",
              "    .dataframe tbody tr th {\n",
              "        vertical-align: top;\n",
              "    }\n",
              "\n",
              "    .dataframe thead th {\n",
              "        text-align: right;\n",
              "    }\n",
              "</style>\n",
              "<table border=\"1\" class=\"dataframe\">\n",
              "  <thead>\n",
              "    <tr style=\"text-align: right;\">\n",
              "      <th></th>\n",
              "      <th>index</th>\n",
              "      <th>Headlines</th>\n",
              "      <th>Close</th>\n",
              "      <th>Volume</th>\n",
              "      <th>Open</th>\n",
              "      <th>High</th>\n",
              "      <th>Low</th>\n",
              "      <th>compound</th>\n",
              "      <th>negative</th>\n",
              "      <th>neutral</th>\n",
              "      <th>positive</th>\n",
              "    </tr>\n",
              "    <tr>\n",
              "      <th>Date</th>\n",
              "      <th></th>\n",
              "      <th></th>\n",
              "      <th></th>\n",
              "      <th></th>\n",
              "      <th></th>\n",
              "      <th></th>\n",
              "      <th></th>\n",
              "      <th></th>\n",
              "      <th></th>\n",
              "      <th></th>\n",
              "      <th></th>\n",
              "    </tr>\n",
              "  </thead>\n",
              "  <tbody>\n",
              "    <tr>\n",
              "      <th>2015-01-02</th>\n",
              "      <td>20</td>\n",
              "      <td>Apple Loop: iOS 8.1.3 Angers Users, Outlook Ar...</td>\n",
              "      <td>78.450</td>\n",
              "      <td>18141830</td>\n",
              "      <td>78.58</td>\n",
              "      <td>78.9300</td>\n",
              "      <td>77.7000</td>\n",
              "      <td>0.1943</td>\n",
              "      <td>0.116</td>\n",
              "      <td>0.749</td>\n",
              "      <td>0.135</td>\n",
              "    </tr>\n",
              "    <tr>\n",
              "      <th>2015-01-05</th>\n",
              "      <td>82</td>\n",
              "      <td>Apple Watch interest described as &amp;quot;tepid,...</td>\n",
              "      <td>77.190</td>\n",
              "      <td>26392340</td>\n",
              "      <td>77.98</td>\n",
              "      <td>79.2455</td>\n",
              "      <td>76.8600</td>\n",
              "      <td>0.9748</td>\n",
              "      <td>0.061</td>\n",
              "      <td>0.831</td>\n",
              "      <td>0.107</td>\n",
              "    </tr>\n",
              "    <tr>\n",
              "      <th>2015-01-06</th>\n",
              "      <td>102</td>\n",
              "      <td>Apple&amp;quot;s TV Service Delayed: Getting Local...</td>\n",
              "      <td>76.150</td>\n",
              "      <td>27365180</td>\n",
              "      <td>77.23</td>\n",
              "      <td>77.5900</td>\n",
              "      <td>75.3650</td>\n",
              "      <td>0.9932</td>\n",
              "      <td>0.034</td>\n",
              "      <td>0.862</td>\n",
              "      <td>0.105</td>\n",
              "    </tr>\n",
              "    <tr>\n",
              "      <th>2015-01-07</th>\n",
              "      <td>123</td>\n",
              "      <td>Apple Inc. leaks new iPod colors in iTunes 12....</td>\n",
              "      <td>76.150</td>\n",
              "      <td>22015250</td>\n",
              "      <td>76.76</td>\n",
              "      <td>77.3600</td>\n",
              "      <td>75.8200</td>\n",
              "      <td>0.9866</td>\n",
              "      <td>0.059</td>\n",
              "      <td>0.812</td>\n",
              "      <td>0.129</td>\n",
              "    </tr>\n",
              "    <tr>\n",
              "      <th>2015-01-08</th>\n",
              "      <td>145</td>\n",
              "      <td>Nomura Begins Coverage on Apple (AAPL) IBM cou...</td>\n",
              "      <td>78.175</td>\n",
              "      <td>23931830</td>\n",
              "      <td>76.74</td>\n",
              "      <td>78.2300</td>\n",
              "      <td>76.0800</td>\n",
              "      <td>0.4939</td>\n",
              "      <td>0.059</td>\n",
              "      <td>0.827</td>\n",
              "      <td>0.114</td>\n",
              "    </tr>\n",
              "    <tr>\n",
              "      <th>...</th>\n",
              "      <td>...</td>\n",
              "      <td>...</td>\n",
              "      <td>...</td>\n",
              "      <td>...</td>\n",
              "      <td>...</td>\n",
              "      <td>...</td>\n",
              "      <td>...</td>\n",
              "      <td>...</td>\n",
              "      <td>...</td>\n",
              "      <td>...</td>\n",
              "      <td>...</td>\n",
              "    </tr>\n",
              "    <tr>\n",
              "      <th>2021-05-28</th>\n",
              "      <td>1591</td>\n",
              "      <td>Apple pushes back launch of podcast subscripti...</td>\n",
              "      <td>328.730</td>\n",
              "      <td>12037430</td>\n",
              "      <td>331.00</td>\n",
              "      <td>332.8684</td>\n",
              "      <td>328.3300</td>\n",
              "      <td>0.9937</td>\n",
              "      <td>0.049</td>\n",
              "      <td>0.845</td>\n",
              "      <td>0.105</td>\n",
              "    </tr>\n",
              "    <tr>\n",
              "      <th>2021-06-01</th>\n",
              "      <td>1514</td>\n",
              "      <td>TSX nears record high as cannabis, renewables ...</td>\n",
              "      <td>329.130</td>\n",
              "      <td>11765910</td>\n",
              "      <td>330.15</td>\n",
              "      <td>331.4200</td>\n",
              "      <td>326.6400</td>\n",
              "      <td>0.9976</td>\n",
              "      <td>0.046</td>\n",
              "      <td>0.836</td>\n",
              "      <td>0.118</td>\n",
              "    </tr>\n",
              "    <tr>\n",
              "      <th>2021-06-02</th>\n",
              "      <td>1529</td>\n",
              "      <td>Exclusive Social Media App Clubhouse Rises In ...</td>\n",
              "      <td>329.150</td>\n",
              "      <td>11654280</td>\n",
              "      <td>330.38</td>\n",
              "      <td>331.8700</td>\n",
              "      <td>327.1215</td>\n",
              "      <td>0.7719</td>\n",
              "      <td>0.070</td>\n",
              "      <td>0.835</td>\n",
              "      <td>0.095</td>\n",
              "    </tr>\n",
              "    <tr>\n",
              "      <th>2021-06-03</th>\n",
              "      <td>1542</td>\n",
              "      <td>Two Patents were fulfilled last week as the Ma...</td>\n",
              "      <td>326.040</td>\n",
              "      <td>12610790</td>\n",
              "      <td>325.78</td>\n",
              "      <td>327.3750</td>\n",
              "      <td>323.4800</td>\n",
              "      <td>-0.3348</td>\n",
              "      <td>0.074</td>\n",
              "      <td>0.857</td>\n",
              "      <td>0.069</td>\n",
              "    </tr>\n",
              "    <tr>\n",
              "      <th>2021-06-04</th>\n",
              "      <td>1560</td>\n",
              "      <td>This Simple Stock Market Strategy Is Winning s...</td>\n",
              "      <td>330.350</td>\n",
              "      <td>13289380</td>\n",
              "      <td>325.90</td>\n",
              "      <td>332.4550</td>\n",
              "      <td>325.1800</td>\n",
              "      <td>0.9801</td>\n",
              "      <td>0.056</td>\n",
              "      <td>0.854</td>\n",
              "      <td>0.089</td>\n",
              "    </tr>\n",
              "  </tbody>\n",
              "</table>\n",
              "<p>1595 rows × 11 columns</p>\n",
              "</div>"
            ],
            "text/plain": [
              "            index  ... positive\n",
              "Date               ...         \n",
              "2015-01-02     20  ...    0.135\n",
              "2015-01-05     82  ...    0.107\n",
              "2015-01-06    102  ...    0.105\n",
              "2015-01-07    123  ...    0.129\n",
              "2015-01-08    145  ...    0.114\n",
              "...           ...  ...      ...\n",
              "2021-05-28   1591  ...    0.105\n",
              "2021-06-01   1514  ...    0.118\n",
              "2021-06-02   1529  ...    0.095\n",
              "2021-06-03   1542  ...    0.069\n",
              "2021-06-04   1560  ...    0.089\n",
              "\n",
              "[1595 rows x 11 columns]"
            ]
          },
          "metadata": {
            "tags": []
          },
          "execution_count": 333
        }
      ]
    },
    {
      "cell_type": "code",
      "metadata": {
        "colab": {
          "base_uri": "https://localhost:8080/"
        },
        "id": "zS34erJXg1tk",
        "outputId": "03801c44-edd7-42ae-9481-74450f8dbf8b"
      },
      "source": [
        "data.columns"
      ],
      "execution_count": 334,
      "outputs": [
        {
          "output_type": "execute_result",
          "data": {
            "text/plain": [
              "Index(['index', 'Headlines', 'Close', 'Volume', 'Open', 'High', 'Low',\n",
              "       'compound', 'negative', 'neutral', 'positive', 'label'],\n",
              "      dtype='object')"
            ]
          },
          "metadata": {
            "tags": []
          },
          "execution_count": 334
        }
      ]
    },
    {
      "cell_type": "code",
      "metadata": {
        "colab": {
          "base_uri": "https://localhost:8080/",
          "height": 234
        },
        "id": "yaOwvBgPg4Fi",
        "outputId": "a77da8d7-8cdd-4549-c13f-c251223fa4ba"
      },
      "source": [
        "data = data[['Close', 'compound', 'negative', 'neutral', 'positive', 'Open', 'High', 'Low', 'Volume']]\n",
        "\n",
        "data.head()"
      ],
      "execution_count": 335,
      "outputs": [
        {
          "output_type": "execute_result",
          "data": {
            "text/html": [
              "<div>\n",
              "<style scoped>\n",
              "    .dataframe tbody tr th:only-of-type {\n",
              "        vertical-align: middle;\n",
              "    }\n",
              "\n",
              "    .dataframe tbody tr th {\n",
              "        vertical-align: top;\n",
              "    }\n",
              "\n",
              "    .dataframe thead th {\n",
              "        text-align: right;\n",
              "    }\n",
              "</style>\n",
              "<table border=\"1\" class=\"dataframe\">\n",
              "  <thead>\n",
              "    <tr style=\"text-align: right;\">\n",
              "      <th></th>\n",
              "      <th>Close</th>\n",
              "      <th>compound</th>\n",
              "      <th>negative</th>\n",
              "      <th>neutral</th>\n",
              "      <th>positive</th>\n",
              "      <th>Open</th>\n",
              "      <th>High</th>\n",
              "      <th>Low</th>\n",
              "      <th>Volume</th>\n",
              "    </tr>\n",
              "    <tr>\n",
              "      <th>Date</th>\n",
              "      <th></th>\n",
              "      <th></th>\n",
              "      <th></th>\n",
              "      <th></th>\n",
              "      <th></th>\n",
              "      <th></th>\n",
              "      <th></th>\n",
              "      <th></th>\n",
              "      <th></th>\n",
              "    </tr>\n",
              "  </thead>\n",
              "  <tbody>\n",
              "    <tr>\n",
              "      <th>2015-01-02</th>\n",
              "      <td>78.450</td>\n",
              "      <td>0.1943</td>\n",
              "      <td>0.116</td>\n",
              "      <td>0.749</td>\n",
              "      <td>0.135</td>\n",
              "      <td>78.58</td>\n",
              "      <td>78.9300</td>\n",
              "      <td>77.700</td>\n",
              "      <td>18141830</td>\n",
              "    </tr>\n",
              "    <tr>\n",
              "      <th>2015-01-05</th>\n",
              "      <td>77.190</td>\n",
              "      <td>0.9748</td>\n",
              "      <td>0.061</td>\n",
              "      <td>0.831</td>\n",
              "      <td>0.107</td>\n",
              "      <td>77.98</td>\n",
              "      <td>79.2455</td>\n",
              "      <td>76.860</td>\n",
              "      <td>26392340</td>\n",
              "    </tr>\n",
              "    <tr>\n",
              "      <th>2015-01-06</th>\n",
              "      <td>76.150</td>\n",
              "      <td>0.9932</td>\n",
              "      <td>0.034</td>\n",
              "      <td>0.862</td>\n",
              "      <td>0.105</td>\n",
              "      <td>77.23</td>\n",
              "      <td>77.5900</td>\n",
              "      <td>75.365</td>\n",
              "      <td>27365180</td>\n",
              "    </tr>\n",
              "    <tr>\n",
              "      <th>2015-01-07</th>\n",
              "      <td>76.150</td>\n",
              "      <td>0.9866</td>\n",
              "      <td>0.059</td>\n",
              "      <td>0.812</td>\n",
              "      <td>0.129</td>\n",
              "      <td>76.76</td>\n",
              "      <td>77.3600</td>\n",
              "      <td>75.820</td>\n",
              "      <td>22015250</td>\n",
              "    </tr>\n",
              "    <tr>\n",
              "      <th>2015-01-08</th>\n",
              "      <td>78.175</td>\n",
              "      <td>0.4939</td>\n",
              "      <td>0.059</td>\n",
              "      <td>0.827</td>\n",
              "      <td>0.114</td>\n",
              "      <td>76.74</td>\n",
              "      <td>78.2300</td>\n",
              "      <td>76.080</td>\n",
              "      <td>23931830</td>\n",
              "    </tr>\n",
              "  </tbody>\n",
              "</table>\n",
              "</div>"
            ],
            "text/plain": [
              "             Close  compound  negative  ...     High     Low    Volume\n",
              "Date                                    ...                           \n",
              "2015-01-02  78.450    0.1943     0.116  ...  78.9300  77.700  18141830\n",
              "2015-01-05  77.190    0.9748     0.061  ...  79.2455  76.860  26392340\n",
              "2015-01-06  76.150    0.9932     0.034  ...  77.5900  75.365  27365180\n",
              "2015-01-07  76.150    0.9866     0.059  ...  77.3600  75.820  22015250\n",
              "2015-01-08  78.175    0.4939     0.059  ...  78.2300  76.080  23931830\n",
              "\n",
              "[5 rows x 9 columns]"
            ]
          },
          "metadata": {
            "tags": []
          },
          "execution_count": 335
        }
      ]
    },
    {
      "cell_type": "code",
      "metadata": {
        "id": "Ky8KyY7Zg6rf"
      },
      "source": [
        "stockdata=data.to_csv('stockdata.csv')"
      ],
      "execution_count": 336,
      "outputs": []
    },
    {
      "cell_type": "code",
      "metadata": {
        "colab": {
          "base_uri": "https://localhost:8080/",
          "height": 234
        },
        "id": "1NROR2cSg8MV",
        "outputId": "e6805da6-5298-43c1-ac7a-59d2cbc742b4"
      },
      "source": [
        "stockdata = pd.read_csv('stockdata.csv', index_col = False)\n",
        "\n",
        "stockdata.rename(columns={'Unnamed: 0':'Date'}, inplace = True)\n",
        "\n",
        "stockdata.set_index('Date', inplace=True)\n",
        "\n",
        "stockdata.head()"
      ],
      "execution_count": 337,
      "outputs": [
        {
          "output_type": "execute_result",
          "data": {
            "text/html": [
              "<div>\n",
              "<style scoped>\n",
              "    .dataframe tbody tr th:only-of-type {\n",
              "        vertical-align: middle;\n",
              "    }\n",
              "\n",
              "    .dataframe tbody tr th {\n",
              "        vertical-align: top;\n",
              "    }\n",
              "\n",
              "    .dataframe thead th {\n",
              "        text-align: right;\n",
              "    }\n",
              "</style>\n",
              "<table border=\"1\" class=\"dataframe\">\n",
              "  <thead>\n",
              "    <tr style=\"text-align: right;\">\n",
              "      <th></th>\n",
              "      <th>Close</th>\n",
              "      <th>compound</th>\n",
              "      <th>negative</th>\n",
              "      <th>neutral</th>\n",
              "      <th>positive</th>\n",
              "      <th>Open</th>\n",
              "      <th>High</th>\n",
              "      <th>Low</th>\n",
              "      <th>Volume</th>\n",
              "    </tr>\n",
              "    <tr>\n",
              "      <th>Date</th>\n",
              "      <th></th>\n",
              "      <th></th>\n",
              "      <th></th>\n",
              "      <th></th>\n",
              "      <th></th>\n",
              "      <th></th>\n",
              "      <th></th>\n",
              "      <th></th>\n",
              "      <th></th>\n",
              "    </tr>\n",
              "  </thead>\n",
              "  <tbody>\n",
              "    <tr>\n",
              "      <th>2015-01-02</th>\n",
              "      <td>78.450</td>\n",
              "      <td>0.1943</td>\n",
              "      <td>0.116</td>\n",
              "      <td>0.749</td>\n",
              "      <td>0.135</td>\n",
              "      <td>78.58</td>\n",
              "      <td>78.9300</td>\n",
              "      <td>77.700</td>\n",
              "      <td>18141830</td>\n",
              "    </tr>\n",
              "    <tr>\n",
              "      <th>2015-01-05</th>\n",
              "      <td>77.190</td>\n",
              "      <td>0.9748</td>\n",
              "      <td>0.061</td>\n",
              "      <td>0.831</td>\n",
              "      <td>0.107</td>\n",
              "      <td>77.98</td>\n",
              "      <td>79.2455</td>\n",
              "      <td>76.860</td>\n",
              "      <td>26392340</td>\n",
              "    </tr>\n",
              "    <tr>\n",
              "      <th>2015-01-06</th>\n",
              "      <td>76.150</td>\n",
              "      <td>0.9932</td>\n",
              "      <td>0.034</td>\n",
              "      <td>0.862</td>\n",
              "      <td>0.105</td>\n",
              "      <td>77.23</td>\n",
              "      <td>77.5900</td>\n",
              "      <td>75.365</td>\n",
              "      <td>27365180</td>\n",
              "    </tr>\n",
              "    <tr>\n",
              "      <th>2015-01-07</th>\n",
              "      <td>76.150</td>\n",
              "      <td>0.9866</td>\n",
              "      <td>0.059</td>\n",
              "      <td>0.812</td>\n",
              "      <td>0.129</td>\n",
              "      <td>76.76</td>\n",
              "      <td>77.3600</td>\n",
              "      <td>75.820</td>\n",
              "      <td>22015250</td>\n",
              "    </tr>\n",
              "    <tr>\n",
              "      <th>2015-01-08</th>\n",
              "      <td>78.175</td>\n",
              "      <td>0.4939</td>\n",
              "      <td>0.059</td>\n",
              "      <td>0.827</td>\n",
              "      <td>0.114</td>\n",
              "      <td>76.74</td>\n",
              "      <td>78.2300</td>\n",
              "      <td>76.080</td>\n",
              "      <td>23931830</td>\n",
              "    </tr>\n",
              "  </tbody>\n",
              "</table>\n",
              "</div>"
            ],
            "text/plain": [
              "             Close  compound  negative  ...     High     Low    Volume\n",
              "Date                                    ...                           \n",
              "2015-01-02  78.450    0.1943     0.116  ...  78.9300  77.700  18141830\n",
              "2015-01-05  77.190    0.9748     0.061  ...  79.2455  76.860  26392340\n",
              "2015-01-06  76.150    0.9932     0.034  ...  77.5900  75.365  27365180\n",
              "2015-01-07  76.150    0.9866     0.059  ...  77.3600  75.820  22015250\n",
              "2015-01-08  78.175    0.4939     0.059  ...  78.2300  76.080  23931830\n",
              "\n",
              "[5 rows x 9 columns]"
            ]
          },
          "metadata": {
            "tags": []
          },
          "execution_count": 337
        }
      ]
    },
    {
      "cell_type": "code",
      "metadata": {
        "colab": {
          "base_uri": "https://localhost:8080/"
        },
        "id": "aSV_wD06g-ny",
        "outputId": "677f5555-f230-4a41-a716-32a75d4449ae"
      },
      "source": [
        "stockdata.shape"
      ],
      "execution_count": 338,
      "outputs": [
        {
          "output_type": "execute_result",
          "data": {
            "text/plain": [
              "(1595, 9)"
            ]
          },
          "metadata": {
            "tags": []
          },
          "execution_count": 338
        }
      ]
    },
    {
      "cell_type": "code",
      "metadata": {
        "colab": {
          "base_uri": "https://localhost:8080/"
        },
        "id": "AljsJHM_hF6Q",
        "outputId": "381cee76-4f42-4a40-a61b-7bf0b6b1a82f"
      },
      "source": [
        "stockdata.isna().any()"
      ],
      "execution_count": 339,
      "outputs": [
        {
          "output_type": "execute_result",
          "data": {
            "text/plain": [
              "Close       False\n",
              "compound    False\n",
              "negative    False\n",
              "neutral     False\n",
              "positive    False\n",
              "Open        False\n",
              "High        False\n",
              "Low         False\n",
              "Volume      False\n",
              "dtype: bool"
            ]
          },
          "metadata": {
            "tags": []
          },
          "execution_count": 339
        }
      ]
    },
    {
      "cell_type": "code",
      "metadata": {
        "colab": {
          "base_uri": "https://localhost:8080/",
          "height": 295
        },
        "id": "mkiIo7I2hJM7",
        "outputId": "fa278d5c-cea2-4968-dbcd-fbdfb9d081af"
      },
      "source": [
        "stockdata.describe(include='all')"
      ],
      "execution_count": 340,
      "outputs": [
        {
          "output_type": "execute_result",
          "data": {
            "text/html": [
              "<div>\n",
              "<style scoped>\n",
              "    .dataframe tbody tr th:only-of-type {\n",
              "        vertical-align: middle;\n",
              "    }\n",
              "\n",
              "    .dataframe tbody tr th {\n",
              "        vertical-align: top;\n",
              "    }\n",
              "\n",
              "    .dataframe thead th {\n",
              "        text-align: right;\n",
              "    }\n",
              "</style>\n",
              "<table border=\"1\" class=\"dataframe\">\n",
              "  <thead>\n",
              "    <tr style=\"text-align: right;\">\n",
              "      <th></th>\n",
              "      <th>Close</th>\n",
              "      <th>compound</th>\n",
              "      <th>negative</th>\n",
              "      <th>neutral</th>\n",
              "      <th>positive</th>\n",
              "      <th>Open</th>\n",
              "      <th>High</th>\n",
              "      <th>Low</th>\n",
              "      <th>Volume</th>\n",
              "    </tr>\n",
              "  </thead>\n",
              "  <tbody>\n",
              "    <tr>\n",
              "      <th>count</th>\n",
              "      <td>1595.000000</td>\n",
              "      <td>1595.000000</td>\n",
              "      <td>1595.000000</td>\n",
              "      <td>1595.000000</td>\n",
              "      <td>1595.000000</td>\n",
              "      <td>1595.000000</td>\n",
              "      <td>1595.000000</td>\n",
              "      <td>1595.000000</td>\n",
              "      <td>1.595000e+03</td>\n",
              "    </tr>\n",
              "    <tr>\n",
              "      <th>mean</th>\n",
              "      <td>165.369643</td>\n",
              "      <td>0.684809</td>\n",
              "      <td>0.056437</td>\n",
              "      <td>0.841263</td>\n",
              "      <td>0.102310</td>\n",
              "      <td>165.288320</td>\n",
              "      <td>167.188786</td>\n",
              "      <td>163.395256</td>\n",
              "      <td>2.231716e+07</td>\n",
              "    </tr>\n",
              "    <tr>\n",
              "      <th>std</th>\n",
              "      <td>58.164559</td>\n",
              "      <td>0.613134</td>\n",
              "      <td>0.029990</td>\n",
              "      <td>0.039018</td>\n",
              "      <td>0.031891</td>\n",
              "      <td>58.110148</td>\n",
              "      <td>58.991088</td>\n",
              "      <td>57.326541</td>\n",
              "      <td>1.311689e+07</td>\n",
              "    </tr>\n",
              "    <tr>\n",
              "      <th>min</th>\n",
              "      <td>74.050000</td>\n",
              "      <td>-0.999500</td>\n",
              "      <td>0.000000</td>\n",
              "      <td>0.666000</td>\n",
              "      <td>0.000000</td>\n",
              "      <td>74.040000</td>\n",
              "      <td>74.830000</td>\n",
              "      <td>72.000000</td>\n",
              "      <td>5.913066e+06</td>\n",
              "    </tr>\n",
              "    <tr>\n",
              "      <th>25%</th>\n",
              "      <td>118.920000</td>\n",
              "      <td>0.837450</td>\n",
              "      <td>0.037000</td>\n",
              "      <td>0.819000</td>\n",
              "      <td>0.081000</td>\n",
              "      <td>118.947500</td>\n",
              "      <td>119.648500</td>\n",
              "      <td>117.790000</td>\n",
              "      <td>1.455378e+07</td>\n",
              "    </tr>\n",
              "    <tr>\n",
              "      <th>50%</th>\n",
              "      <td>165.790000</td>\n",
              "      <td>0.978400</td>\n",
              "      <td>0.052000</td>\n",
              "      <td>0.845000</td>\n",
              "      <td>0.101000</td>\n",
              "      <td>165.440000</td>\n",
              "      <td>167.450000</td>\n",
              "      <td>163.730000</td>\n",
              "      <td>1.898374e+07</td>\n",
              "    </tr>\n",
              "    <tr>\n",
              "      <th>75%</th>\n",
              "      <td>193.150000</td>\n",
              "      <td>0.993900</td>\n",
              "      <td>0.070000</td>\n",
              "      <td>0.867000</td>\n",
              "      <td>0.121000</td>\n",
              "      <td>193.032500</td>\n",
              "      <td>195.170000</td>\n",
              "      <td>191.460000</td>\n",
              "      <td>2.536836e+07</td>\n",
              "    </tr>\n",
              "    <tr>\n",
              "      <th>max</th>\n",
              "      <td>332.750000</td>\n",
              "      <td>0.999600</td>\n",
              "      <td>0.241000</td>\n",
              "      <td>1.000000</td>\n",
              "      <td>0.242000</td>\n",
              "      <td>331.000000</td>\n",
              "      <td>333.780000</td>\n",
              "      <td>328.330000</td>\n",
              "      <td>1.690599e+08</td>\n",
              "    </tr>\n",
              "  </tbody>\n",
              "</table>\n",
              "</div>"
            ],
            "text/plain": [
              "             Close     compound  ...          Low        Volume\n",
              "count  1595.000000  1595.000000  ...  1595.000000  1.595000e+03\n",
              "mean    165.369643     0.684809  ...   163.395256  2.231716e+07\n",
              "std      58.164559     0.613134  ...    57.326541  1.311689e+07\n",
              "min      74.050000    -0.999500  ...    72.000000  5.913066e+06\n",
              "25%     118.920000     0.837450  ...   117.790000  1.455378e+07\n",
              "50%     165.790000     0.978400  ...   163.730000  1.898374e+07\n",
              "75%     193.150000     0.993900  ...   191.460000  2.536836e+07\n",
              "max     332.750000     0.999600  ...   328.330000  1.690599e+08\n",
              "\n",
              "[8 rows x 9 columns]"
            ]
          },
          "metadata": {
            "tags": []
          },
          "execution_count": 340
        }
      ]
    },
    {
      "cell_type": "code",
      "metadata": {
        "colab": {
          "base_uri": "https://localhost:8080/"
        },
        "id": "St4ArMW3hMkm",
        "outputId": "aea79dbc-415a-4807-d790-9c7be45a4278"
      },
      "source": [
        "stockdata.info()"
      ],
      "execution_count": 341,
      "outputs": [
        {
          "output_type": "stream",
          "text": [
            "<class 'pandas.core.frame.DataFrame'>\n",
            "Index: 1595 entries, 2015-01-02 to 2021-06-04\n",
            "Data columns (total 9 columns):\n",
            " #   Column    Non-Null Count  Dtype  \n",
            "---  ------    --------------  -----  \n",
            " 0   Close     1595 non-null   float64\n",
            " 1   compound  1595 non-null   float64\n",
            " 2   negative  1595 non-null   float64\n",
            " 3   neutral   1595 non-null   float64\n",
            " 4   positive  1595 non-null   float64\n",
            " 5   Open      1595 non-null   float64\n",
            " 6   High      1595 non-null   float64\n",
            " 7   Low       1595 non-null   float64\n",
            " 8   Volume    1595 non-null   int64  \n",
            "dtypes: float64(8), int64(1)\n",
            "memory usage: 124.6+ KB\n"
          ],
          "name": "stdout"
        }
      ]
    },
    {
      "cell_type": "code",
      "metadata": {
        "colab": {
          "base_uri": "https://localhost:8080/"
        },
        "id": "lKLMCPVehO1U",
        "outputId": "b2b839ac-a862-462c-cc66-1285a3e8c4d8"
      },
      "source": [
        "close_price = stockdata.iloc[:,0] \n",
        "\n",
        "print(\"Close Price:\")\n",
        "close_price"
      ],
      "execution_count": 342,
      "outputs": [
        {
          "output_type": "stream",
          "text": [
            "Close Price:\n"
          ],
          "name": "stdout"
        },
        {
          "output_type": "execute_result",
          "data": {
            "text/plain": [
              "Date\n",
              "2015-01-02     78.450\n",
              "2015-01-05     77.190\n",
              "2015-01-06     76.150\n",
              "2015-01-07     76.150\n",
              "2015-01-08     78.175\n",
              "               ...   \n",
              "2021-05-28    328.730\n",
              "2021-06-01    329.130\n",
              "2021-06-02    329.150\n",
              "2021-06-03    326.040\n",
              "2021-06-04    330.350\n",
              "Name: Close, Length: 1595, dtype: float64"
            ]
          },
          "metadata": {
            "tags": []
          },
          "execution_count": 342
        }
      ]
    },
    {
      "cell_type": "code",
      "metadata": {
        "colab": {
          "base_uri": "https://localhost:8080/",
          "height": 696
        },
        "id": "YrW8e3frhS0P",
        "outputId": "172ea61a-941d-49e3-ee89-6ca3af46dc64"
      },
      "source": [
        "need_data = pd.concat([close_price], axis=1)\n",
        "\n",
        "\n",
        "need_data.columns = ['close_price']  \n",
        "need_data.tail(20)"
      ],
      "execution_count": 343,
      "outputs": [
        {
          "output_type": "execute_result",
          "data": {
            "text/html": [
              "<div>\n",
              "<style scoped>\n",
              "    .dataframe tbody tr th:only-of-type {\n",
              "        vertical-align: middle;\n",
              "    }\n",
              "\n",
              "    .dataframe tbody tr th {\n",
              "        vertical-align: top;\n",
              "    }\n",
              "\n",
              "    .dataframe thead th {\n",
              "        text-align: right;\n",
              "    }\n",
              "</style>\n",
              "<table border=\"1\" class=\"dataframe\">\n",
              "  <thead>\n",
              "    <tr style=\"text-align: right;\">\n",
              "      <th></th>\n",
              "      <th>close_price</th>\n",
              "    </tr>\n",
              "    <tr>\n",
              "      <th>Date</th>\n",
              "      <th></th>\n",
              "    </tr>\n",
              "  </thead>\n",
              "  <tbody>\n",
              "    <tr>\n",
              "      <th>2021-05-03</th>\n",
              "      <td>322.58</td>\n",
              "    </tr>\n",
              "    <tr>\n",
              "      <th>2021-05-04</th>\n",
              "      <td>318.36</td>\n",
              "    </tr>\n",
              "    <tr>\n",
              "      <th>2021-05-05</th>\n",
              "      <td>315.02</td>\n",
              "    </tr>\n",
              "    <tr>\n",
              "      <th>2021-05-06</th>\n",
              "      <td>320.02</td>\n",
              "    </tr>\n",
              "    <tr>\n",
              "      <th>2021-05-13</th>\n",
              "      <td>305.26</td>\n",
              "    </tr>\n",
              "    <tr>\n",
              "      <th>2021-05-14</th>\n",
              "      <td>315.94</td>\n",
              "    </tr>\n",
              "    <tr>\n",
              "      <th>2021-05-17</th>\n",
              "      <td>315.46</td>\n",
              "    </tr>\n",
              "    <tr>\n",
              "      <th>2021-05-18</th>\n",
              "      <td>309.96</td>\n",
              "    </tr>\n",
              "    <tr>\n",
              "      <th>2021-05-19</th>\n",
              "      <td>313.59</td>\n",
              "    </tr>\n",
              "    <tr>\n",
              "      <th>2021-05-20</th>\n",
              "      <td>318.61</td>\n",
              "    </tr>\n",
              "    <tr>\n",
              "      <th>2021-05-21</th>\n",
              "      <td>316.23</td>\n",
              "    </tr>\n",
              "    <tr>\n",
              "      <th>2021-05-24</th>\n",
              "      <td>324.63</td>\n",
              "    </tr>\n",
              "    <tr>\n",
              "      <th>2021-05-25</th>\n",
              "      <td>327.79</td>\n",
              "    </tr>\n",
              "    <tr>\n",
              "      <th>2021-05-26</th>\n",
              "      <td>327.66</td>\n",
              "    </tr>\n",
              "    <tr>\n",
              "      <th>2021-05-27</th>\n",
              "      <td>332.75</td>\n",
              "    </tr>\n",
              "    <tr>\n",
              "      <th>2021-05-28</th>\n",
              "      <td>328.73</td>\n",
              "    </tr>\n",
              "    <tr>\n",
              "      <th>2021-06-01</th>\n",
              "      <td>329.13</td>\n",
              "    </tr>\n",
              "    <tr>\n",
              "      <th>2021-06-02</th>\n",
              "      <td>329.15</td>\n",
              "    </tr>\n",
              "    <tr>\n",
              "      <th>2021-06-03</th>\n",
              "      <td>326.04</td>\n",
              "    </tr>\n",
              "    <tr>\n",
              "      <th>2021-06-04</th>\n",
              "      <td>330.35</td>\n",
              "    </tr>\n",
              "  </tbody>\n",
              "</table>\n",
              "</div>"
            ],
            "text/plain": [
              "            close_price\n",
              "Date                   \n",
              "2021-05-03       322.58\n",
              "2021-05-04       318.36\n",
              "2021-05-05       315.02\n",
              "2021-05-06       320.02\n",
              "2021-05-13       305.26\n",
              "2021-05-14       315.94\n",
              "2021-05-17       315.46\n",
              "2021-05-18       309.96\n",
              "2021-05-19       313.59\n",
              "2021-05-20       318.61\n",
              "2021-05-21       316.23\n",
              "2021-05-24       324.63\n",
              "2021-05-25       327.79\n",
              "2021-05-26       327.66\n",
              "2021-05-27       332.75\n",
              "2021-05-28       328.73\n",
              "2021-06-01       329.13\n",
              "2021-06-02       329.15\n",
              "2021-06-03       326.04\n",
              "2021-06-04       330.35"
            ]
          },
          "metadata": {
            "tags": []
          },
          "execution_count": 343
        }
      ]
    },
    {
      "cell_type": "code",
      "metadata": {
        "id": "lL8hoXEVhWaN"
      },
      "source": [
        "dataset = need_data.values"
      ],
      "execution_count": 344,
      "outputs": []
    },
    {
      "cell_type": "code",
      "metadata": {
        "colab": {
          "base_uri": "https://localhost:8080/"
        },
        "id": "UP42vJJVhYVo",
        "outputId": "510937ee-951b-4b60-9575-31114e0df818"
      },
      "source": [
        "training_data_len = math.ceil(len(dataset)*.8)\n",
        "training_data_len"
      ],
      "execution_count": 345,
      "outputs": [
        {
          "output_type": "execute_result",
          "data": {
            "text/plain": [
              "1276"
            ]
          },
          "metadata": {
            "tags": []
          },
          "execution_count": 345
        }
      ]
    },
    {
      "cell_type": "code",
      "metadata": {
        "colab": {
          "base_uri": "https://localhost:8080/"
        },
        "id": "JlN-_ElDha0x",
        "outputId": "5a177c82-1147-40b9-fb24-32fb1d1f4cd3"
      },
      "source": [
        "scaler = MinMaxScaler(feature_range=(0,1))\n",
        "scaled_data = scaler.fit_transform(dataset)\n",
        "\n",
        "print(scaled_data)"
      ],
      "execution_count": 346,
      "outputs": [
        {
          "output_type": "stream",
          "text": [
            "[[0.01700812]\n",
            " [0.01213761]\n",
            " [0.00811751]\n",
            " ...\n",
            " [0.98608427]\n",
            " [0.97406262]\n",
            " [0.99072284]]\n"
          ],
          "name": "stdout"
        }
      ]
    },
    {
      "cell_type": "code",
      "metadata": {
        "colab": {
          "base_uri": "https://localhost:8080/"
        },
        "id": "7gflUbq4hhvJ",
        "outputId": "a6ff0b85-4151-4566-a0c0-469081c5cf27"
      },
      "source": [
        "train_data = scaled_data[0:training_data_len , :]\n",
        "\n",
        "x_train = []\n",
        "y_train = []\n",
        "past_days = 20\n",
        "for i in range(past_days, len(train_data)):\n",
        "    x_train.append(train_data[i-past_days:i, :])\n",
        "    y_train.append(train_data[i, 0])\n",
        "    if i<= past_days:\n",
        "        print(x_train)\n",
        "        print(y_train)\n",
        "        print()"
      ],
      "execution_count": 347,
      "outputs": [
        {
          "output_type": "stream",
          "text": [
            "[array([[0.01700812],\n",
            "       [0.01213761],\n",
            "       [0.00811751],\n",
            "       [0.00811751],\n",
            "       [0.01594511],\n",
            "       [0.01426363],\n",
            "       [0.01032083],\n",
            "       [0.00927716],\n",
            "       [0.00862002],\n",
            "       [0.        ],\n",
            "       [0.00436799],\n",
            "       [0.0084654 ],\n",
            "       [0.01039814],\n",
            "       [0.01391573],\n",
            "       [0.01461152],\n",
            "       [0.01331658],\n",
            "       [0.00668728],\n",
            "       [0.0084654 ],\n",
            "       [0.01526865],\n",
            "       [0.0071898 ]])]\n",
            "[0.0036335523772709766]\n",
            "\n"
          ],
          "name": "stdout"
        }
      ]
    },
    {
      "cell_type": "code",
      "metadata": {
        "id": "3GfRujzrhnBR"
      },
      "source": [
        "x_train, y_train = np.array(x_train), np.array(y_train)"
      ],
      "execution_count": 348,
      "outputs": []
    },
    {
      "cell_type": "code",
      "metadata": {
        "colab": {
          "base_uri": "https://localhost:8080/"
        },
        "id": "GWKisqqphpK-",
        "outputId": "4e89099f-1812-4f9d-aebc-84e09cad560b"
      },
      "source": [
        "x_train = np.reshape(x_train, (x_train.shape[0], x_train.shape[1], 1))\n",
        "x_train"
      ],
      "execution_count": 349,
      "outputs": [
        {
          "output_type": "execute_result",
          "data": {
            "text/plain": [
              "array([[[0.01700812],\n",
              "        [0.01213761],\n",
              "        [0.00811751],\n",
              "        ...,\n",
              "        [0.0084654 ],\n",
              "        [0.01526865],\n",
              "        [0.0071898 ]],\n",
              "\n",
              "       [[0.01213761],\n",
              "        [0.00811751],\n",
              "        [0.00811751],\n",
              "        ...,\n",
              "        [0.01526865],\n",
              "        [0.0071898 ],\n",
              "        [0.00363355]],\n",
              "\n",
              "       [[0.00811751],\n",
              "        [0.00811751],\n",
              "        [0.01594511],\n",
              "        ...,\n",
              "        [0.0071898 ],\n",
              "        [0.00363355],\n",
              "        [0.0052184 ]],\n",
              "\n",
              "       ...,\n",
              "\n",
              "       [[0.50664863],\n",
              "        [0.51696946],\n",
              "        [0.51816776],\n",
              "        ...,\n",
              "        [0.56973328],\n",
              "        [0.56926942],\n",
              "        [0.56323927]],\n",
              "\n",
              "       [[0.51696946],\n",
              "        [0.51816776],\n",
              "        [0.50390414],\n",
              "        ...,\n",
              "        [0.56926942],\n",
              "        [0.56323927],\n",
              "        [0.5562041 ]],\n",
              "\n",
              "       [[0.51816776],\n",
              "        [0.50390414],\n",
              "        [0.50715114],\n",
              "        ...,\n",
              "        [0.56323927],\n",
              "        [0.5562041 ],\n",
              "        [0.54433707]]])"
            ]
          },
          "metadata": {
            "tags": []
          },
          "execution_count": 349
        }
      ]
    },
    {
      "cell_type": "code",
      "metadata": {
        "colab": {
          "base_uri": "https://localhost:8080/"
        },
        "id": "YAgOR-fThsua",
        "outputId": "75e49330-26d9-420c-cb72-b02a3da8bf0b"
      },
      "source": [
        "print(x_train.shape)\n",
        "print(y_train.shape)"
      ],
      "execution_count": 350,
      "outputs": [
        {
          "output_type": "stream",
          "text": [
            "(1256, 20, 1)\n",
            "(1256,)\n"
          ],
          "name": "stdout"
        }
      ]
    },
    {
      "cell_type": "markdown",
      "metadata": {
        "id": "wbAS8pRvDNRM"
      },
      "source": [
        "**APPLYING THE LSTM MODEL**"
      ]
    },
    {
      "cell_type": "code",
      "metadata": {
        "colab": {
          "base_uri": "https://localhost:8080/"
        },
        "id": "dvHVenhbhvQh",
        "outputId": "42e0be2c-214a-4c1b-83be-97c9813f0d62"
      },
      "source": [
        "import keras.models\n",
        "import tensorflow as tf\n",
        "tf.random.set_seed(0)\n",
        "model = Sequential()\n",
        "model.add(LSTM(160, return_sequences=True, activation = \"tanh\", input_shape= (x_train.shape[1], 1)))\n",
        "model.add(Dropout(0.2))\n",
        "model.add(LSTM(80, return_sequences= False, activation = \"tanh\"))\n",
        "model.add(Dense(60))\n",
        "model.add(Dense(1))\n",
        "\n",
        "model.summary()"
      ],
      "execution_count": 351,
      "outputs": [
        {
          "output_type": "stream",
          "text": [
            "Model: \"sequential_4\"\n",
            "_________________________________________________________________\n",
            "Layer (type)                 Output Shape              Param #   \n",
            "=================================================================\n",
            "lstm_8 (LSTM)                (None, 20, 160)           103680    \n",
            "_________________________________________________________________\n",
            "dropout_4 (Dropout)          (None, 20, 160)           0         \n",
            "_________________________________________________________________\n",
            "lstm_9 (LSTM)                (None, 80)                77120     \n",
            "_________________________________________________________________\n",
            "dense_8 (Dense)              (None, 60)                4860      \n",
            "_________________________________________________________________\n",
            "dense_9 (Dense)              (None, 1)                 61        \n",
            "=================================================================\n",
            "Total params: 185,721\n",
            "Trainable params: 185,721\n",
            "Non-trainable params: 0\n",
            "_________________________________________________________________\n"
          ],
          "name": "stdout"
        }
      ]
    },
    {
      "cell_type": "code",
      "metadata": {
        "id": "GLzv9xzfhyu3"
      },
      "source": [
        "model.compile(optimizer='adam', loss='mean_squared_error')"
      ],
      "execution_count": 352,
      "outputs": []
    },
    {
      "cell_type": "code",
      "metadata": {
        "colab": {
          "base_uri": "https://localhost:8080/"
        },
        "id": "usEYHckeh02S",
        "outputId": "a15a0528-b0d5-43af-f95f-cfd07b76bd1a"
      },
      "source": [
        "from keras.callbacks import EarlyStopping\n",
        "early_stop = EarlyStopping(monitor = 'val_loss', mode = 'min',verbose = 1,patience = 5)\n",
        "\n",
        "history = model.fit(x_train, y_train, batch_size = 64, epochs = 100, verbose = 1, validation_split = 0.2, callbacks = [early_stop])"
      ],
      "execution_count": 353,
      "outputs": [
        {
          "output_type": "stream",
          "text": [
            "Epoch 1/100\n",
            "16/16 [==============================] - 5s 108ms/step - loss: 0.0237 - val_loss: 8.4791e-04\n",
            "Epoch 2/100\n",
            "16/16 [==============================] - 1s 53ms/step - loss: 0.0021 - val_loss: 0.0013\n",
            "Epoch 3/100\n",
            "16/16 [==============================] - 1s 53ms/step - loss: 7.1384e-04 - val_loss: 6.3735e-04\n",
            "Epoch 4/100\n",
            "16/16 [==============================] - 1s 54ms/step - loss: 4.0495e-04 - val_loss: 8.0858e-04\n",
            "Epoch 5/100\n",
            "16/16 [==============================] - 1s 54ms/step - loss: 4.5086e-04 - val_loss: 6.9357e-04\n",
            "Epoch 6/100\n",
            "16/16 [==============================] - 1s 54ms/step - loss: 3.9579e-04 - val_loss: 6.0447e-04\n",
            "Epoch 7/100\n",
            "16/16 [==============================] - 1s 54ms/step - loss: 4.1301e-04 - val_loss: 9.1871e-04\n",
            "Epoch 8/100\n",
            "16/16 [==============================] - 1s 54ms/step - loss: 3.8246e-04 - val_loss: 5.8020e-04\n",
            "Epoch 9/100\n",
            "16/16 [==============================] - 1s 54ms/step - loss: 4.0661e-04 - val_loss: 5.9953e-04\n",
            "Epoch 10/100\n",
            "16/16 [==============================] - 1s 53ms/step - loss: 3.8703e-04 - val_loss: 5.9987e-04\n",
            "Epoch 11/100\n",
            "16/16 [==============================] - 1s 55ms/step - loss: 3.7629e-04 - val_loss: 5.7668e-04\n",
            "Epoch 12/100\n",
            "16/16 [==============================] - 1s 53ms/step - loss: 3.5603e-04 - val_loss: 6.9885e-04\n",
            "Epoch 13/100\n",
            "16/16 [==============================] - 1s 53ms/step - loss: 4.1321e-04 - val_loss: 5.8127e-04\n",
            "Epoch 14/100\n",
            "16/16 [==============================] - 1s 53ms/step - loss: 3.4661e-04 - val_loss: 6.2221e-04\n",
            "Epoch 15/100\n",
            "16/16 [==============================] - 1s 54ms/step - loss: 4.1030e-04 - val_loss: 5.2232e-04\n",
            "Epoch 16/100\n",
            "16/16 [==============================] - 1s 56ms/step - loss: 3.2250e-04 - val_loss: 7.0650e-04\n",
            "Epoch 17/100\n",
            "16/16 [==============================] - 1s 58ms/step - loss: 3.7486e-04 - val_loss: 5.0108e-04\n",
            "Epoch 18/100\n",
            "16/16 [==============================] - 1s 54ms/step - loss: 3.2993e-04 - val_loss: 5.6163e-04\n",
            "Epoch 19/100\n",
            "16/16 [==============================] - 1s 54ms/step - loss: 3.3680e-04 - val_loss: 6.3284e-04\n",
            "Epoch 20/100\n",
            "16/16 [==============================] - 1s 53ms/step - loss: 3.4353e-04 - val_loss: 7.0157e-04\n",
            "Epoch 21/100\n",
            "16/16 [==============================] - 1s 55ms/step - loss: 3.2894e-04 - val_loss: 0.0010\n",
            "Epoch 22/100\n",
            "16/16 [==============================] - 1s 54ms/step - loss: 3.6710e-04 - val_loss: 0.0010\n",
            "Epoch 00022: early stopping\n"
          ],
          "name": "stdout"
        }
      ]
    },
    {
      "cell_type": "code",
      "metadata": {
        "colab": {
          "base_uri": "https://localhost:8080/",
          "height": 364
        },
        "id": "RhxWc7yrh36M",
        "outputId": "f0230150-0293-42c8-d9ac-febdd0bdc1d3"
      },
      "source": [
        "loss = pd.DataFrame(model.history.history)\n",
        "loss.plot()"
      ],
      "execution_count": 354,
      "outputs": [
        {
          "output_type": "execute_result",
          "data": {
            "text/plain": [
              "<matplotlib.axes._subplots.AxesSubplot at 0x7f57f12b5c50>"
            ]
          },
          "metadata": {
            "tags": []
          },
          "execution_count": 354
        },
        {
          "output_type": "display_data",
          "data": {
            "image/png": "[encoded data removed]",
            "text/plain": [
              "<Figure size 576x396 with 1 Axes>"
            ]
          },
          "metadata": {
            "tags": []
          }
        }
      ]
    },
    {
      "cell_type": "code",
      "metadata": {
        "id": "vHyaxvR9h5s9"
      },
      "source": [
        "test_data = scaled_data[training_data_len - past_days: , :]\n",
        "\n",
        "x_test = []\n",
        "y_test = dataset[training_data_len:, 0]\n",
        "for i in range(past_days, len(test_data)):\n",
        "    x_test.append(test_data[i-past_days:i, :])"
      ],
      "execution_count": 355,
      "outputs": []
    },
    {
      "cell_type": "code",
      "metadata": {
        "id": "JcBXtGuqh8E5"
      },
      "source": [
        "x_test = np.array(x_test)"
      ],
      "execution_count": 356,
      "outputs": []
    },
    {
      "cell_type": "code",
      "metadata": {
        "id": "ulP48Z9yiAoY"
      },
      "source": [
        "x_test = np.reshape(x_test, (x_test.shape[0], x_test.shape[1], 1))"
      ],
      "execution_count": 357,
      "outputs": []
    },
    {
      "cell_type": "code",
      "metadata": {
        "id": "an6h8fN0iHzj"
      },
      "source": [
        "predictions = model.predict(x_test)\n",
        "predictions = scaler.inverse_transform(predictions)"
      ],
      "execution_count": 358,
      "outputs": []
    },
    {
      "cell_type": "code",
      "metadata": {
        "colab": {
          "base_uri": "https://localhost:8080/"
        },
        "id": "AOygfQ4PiKjl",
        "outputId": "785f8dc3-4c02-4ebb-a5fb-257c2cfdb67c"
      },
      "source": [
        "predictions"
      ],
      "execution_count": 359,
      "outputs": [
        {
          "output_type": "execute_result",
          "data": {
            "text/plain": [
              "array([[212.38084],\n",
              "       [212.36537],\n",
              "       [211.59492],\n",
              "       [209.8936 ],\n",
              "       [207.9316 ],\n",
              "       [206.3862 ],\n",
              "       [205.23169],\n",
              "       [204.47314],\n",
              "       [204.13127],\n",
              "       [204.12013],\n",
              "       [203.87984],\n",
              "       [203.78181],\n",
              "       [203.95009],\n",
              "       [204.33963],\n",
              "       [205.10072],\n",
              "       [205.9973 ],\n",
              "       [206.68918],\n",
              "       [206.87308],\n",
              "       [206.03096],\n",
              "       [204.34572],\n",
              "       [202.32207],\n",
              "       [199.70662],\n",
              "       [197.12993],\n",
              "       [195.07619],\n",
              "       [192.73827],\n",
              "       [190.87032],\n",
              "       [188.93535],\n",
              "       [186.8222 ],\n",
              "       [183.91507],\n",
              "       [181.39656],\n",
              "       [178.70583],\n",
              "       [174.9878 ],\n",
              "       [172.0967 ],\n",
              "       [168.14493],\n",
              "       [164.12643],\n",
              "       [160.18193],\n",
              "       [157.03479],\n",
              "       [154.37189],\n",
              "       [152.09125],\n",
              "       [151.15738],\n",
              "       [150.78278],\n",
              "       [151.29146],\n",
              "       [151.83496],\n",
              "       [153.02122],\n",
              "       [154.54506],\n",
              "       [155.65182],\n",
              "       [156.2923 ],\n",
              "       [156.29543],\n",
              "       [156.7166 ],\n",
              "       [157.62404],\n",
              "       [159.14769],\n",
              "       [160.98936],\n",
              "       [162.89468],\n",
              "       [164.8855 ],\n",
              "       [166.70924],\n",
              "       [168.22655],\n",
              "       [169.66418],\n",
              "       [170.85345],\n",
              "       [171.2545 ],\n",
              "       [172.0053 ],\n",
              "       [173.09465],\n",
              "       [174.69199],\n",
              "       [176.27313],\n",
              "       [177.4059 ],\n",
              "       [178.99564],\n",
              "       [181.49281],\n",
              "       [184.17354],\n",
              "       [186.97743],\n",
              "       [189.78142],\n",
              "       [192.45427],\n",
              "       [195.0407 ],\n",
              "       [197.43958],\n",
              "       [199.59082],\n",
              "       [201.19432],\n",
              "       [201.96306],\n",
              "       [202.29402],\n",
              "       [202.63605],\n",
              "       [203.12405],\n",
              "       [203.93047],\n",
              "       [205.86392],\n",
              "       [208.41441],\n",
              "       [211.40631],\n",
              "       [214.20628],\n",
              "       [216.42926],\n",
              "       [217.86482],\n",
              "       [218.68188],\n",
              "       [219.54942],\n",
              "       [220.43431],\n",
              "       [221.07233],\n",
              "       [221.22862],\n",
              "       [221.42491],\n",
              "       [221.66644],\n",
              "       [222.46225],\n",
              "       [223.3688 ],\n",
              "       [223.35316],\n",
              "       [223.11926],\n",
              "       [223.05281],\n",
              "       [223.32227],\n",
              "       [223.76633],\n",
              "       [224.33011],\n",
              "       [225.12155],\n",
              "       [226.01619],\n",
              "       [227.11809],\n",
              "       [227.6315 ],\n",
              "       [227.88467],\n",
              "       [226.48694],\n",
              "       [224.59456],\n",
              "       [223.0116 ],\n",
              "       [222.51572],\n",
              "       [222.39943],\n",
              "       [223.06525],\n",
              "       [224.17738],\n",
              "       [225.68298],\n",
              "       [227.35379],\n",
              "       [229.00908],\n",
              "       [230.07806],\n",
              "       [230.76918],\n",
              "       [231.20915],\n",
              "       [231.50465],\n",
              "       [231.77208],\n",
              "       [232.25871],\n",
              "       [232.55644],\n",
              "       [232.58974],\n",
              "       [231.90314],\n",
              "       [230.72105],\n",
              "       [229.51456],\n",
              "       [228.16055],\n",
              "       [227.08136],\n",
              "       [226.3509 ],\n",
              "       [227.30962],\n",
              "       [229.06604],\n",
              "       [231.00958],\n",
              "       [232.85713],\n",
              "       [235.69817],\n",
              "       [239.10196],\n",
              "       [242.14207],\n",
              "       [244.2106 ],\n",
              "       [245.81221],\n",
              "       [247.08884],\n",
              "       [248.05782],\n",
              "       [248.76222],\n",
              "       [249.3319 ],\n",
              "       [249.79262],\n",
              "       [250.62653],\n",
              "       [251.45564],\n",
              "       [252.5589 ],\n",
              "       [254.42575],\n",
              "       [258.32135],\n",
              "       [262.24344],\n",
              "       [265.94833],\n",
              "       [269.1387 ],\n",
              "       [271.91034],\n",
              "       [274.71838],\n",
              "       [276.44904],\n",
              "       [276.78174],\n",
              "       [275.387  ],\n",
              "       [273.30164],\n",
              "       [270.55457],\n",
              "       [267.55423],\n",
              "       [264.62677],\n",
              "       [262.46768],\n",
              "       [260.26788],\n",
              "       [257.605  ],\n",
              "       [254.74432],\n",
              "       [251.66283],\n",
              "       [249.2184 ],\n",
              "       [246.91934],\n",
              "       [244.98117],\n",
              "       [243.77432],\n",
              "       [243.25725],\n",
              "       [243.5691 ],\n",
              "       [244.35536],\n",
              "       [245.72581],\n",
              "       [246.79143],\n",
              "       [247.95259],\n",
              "       [248.59558],\n",
              "       [248.86203],\n",
              "       [249.28955],\n",
              "       [249.81879],\n",
              "       [251.21953],\n",
              "       [253.04074],\n",
              "       [254.6232 ],\n",
              "       [255.55222],\n",
              "       [255.96497],\n",
              "       [255.6837 ],\n",
              "       [255.4984 ],\n",
              "       [256.19458],\n",
              "       [257.29935],\n",
              "       [259.07864],\n",
              "       [260.51434],\n",
              "       [262.1173 ],\n",
              "       [262.47668],\n",
              "       [263.10504],\n",
              "       [262.4413 ],\n",
              "       [260.99902],\n",
              "       [259.49127],\n",
              "       [259.72873],\n",
              "       [261.49924],\n",
              "       [263.93854],\n",
              "       [265.49298],\n",
              "       [265.9329 ],\n",
              "       [265.97037],\n",
              "       [265.63303],\n",
              "       [265.2506 ],\n",
              "       [265.01572],\n",
              "       [264.6021 ],\n",
              "       [263.9134 ],\n",
              "       [263.18658],\n",
              "       [262.25986],\n",
              "       [261.18784],\n",
              "       [260.77887],\n",
              "       [260.64825],\n",
              "       [260.90903],\n",
              "       [261.2733 ],\n",
              "       [262.41   ],\n",
              "       [263.96585],\n",
              "       [265.24268],\n",
              "       [266.08475],\n",
              "       [267.02933],\n",
              "       [267.74878],\n",
              "       [267.87363],\n",
              "       [267.60025],\n",
              "       [266.83508],\n",
              "       [265.90338],\n",
              "       [265.052  ],\n",
              "       [264.3203 ],\n",
              "       [263.63498],\n",
              "       [263.19034],\n",
              "       [262.64386],\n",
              "       [261.66547],\n",
              "       [260.61514],\n",
              "       [259.53793],\n",
              "       [259.26562],\n",
              "       [259.4532 ],\n",
              "       [259.55356],\n",
              "       [259.696  ],\n",
              "       [259.51572],\n",
              "       [259.32263],\n",
              "       [258.5621 ],\n",
              "       [256.65778],\n",
              "       [253.79665],\n",
              "       [251.04312],\n",
              "       [249.29297],\n",
              "       [248.7595 ],\n",
              "       [249.4061 ],\n",
              "       [250.82477],\n",
              "       [252.84969],\n",
              "       [255.365  ],\n",
              "       [257.19348],\n",
              "       [257.9345 ],\n",
              "       [257.4733 ],\n",
              "       [256.61438],\n",
              "       [255.971  ],\n",
              "       [255.45984],\n",
              "       [255.06183],\n",
              "       [254.89822],\n",
              "       [255.32161],\n",
              "       [256.02563],\n",
              "       [256.51526],\n",
              "       [256.24548],\n",
              "       [255.46913],\n",
              "       [254.88066],\n",
              "       [254.32988],\n",
              "       [253.13184],\n",
              "       [251.8939 ],\n",
              "       [251.26784],\n",
              "       [250.60416],\n",
              "       [249.72742],\n",
              "       [248.95142],\n",
              "       [248.79103],\n",
              "       [249.70897],\n",
              "       [251.60944],\n",
              "       [254.29376],\n",
              "       [256.80008],\n",
              "       [259.86685],\n",
              "       [263.23233],\n",
              "       [266.27   ],\n",
              "       [268.2117 ],\n",
              "       [269.0898 ],\n",
              "       [269.5762 ],\n",
              "       [270.36746],\n",
              "       [271.05206],\n",
              "       [272.1186 ],\n",
              "       [273.60458],\n",
              "       [275.99652],\n",
              "       [278.50363],\n",
              "       [281.12653],\n",
              "       [283.05304],\n",
              "       [284.80563],\n",
              "       [286.16318],\n",
              "       [286.88364],\n",
              "       [287.20544],\n",
              "       [287.17108],\n",
              "       [286.54556],\n",
              "       [286.0124 ],\n",
              "       [285.70087],\n",
              "       [285.5787 ],\n",
              "       [285.84   ],\n",
              "       [287.99728],\n",
              "       [290.69724],\n",
              "       [293.33182],\n",
              "       [295.3712 ],\n",
              "       [296.64685],\n",
              "       [297.7414 ],\n",
              "       [297.50092],\n",
              "       [297.3429 ],\n",
              "       [297.17142],\n",
              "       [296.58563],\n",
              "       [296.11917],\n",
              "       [296.12213],\n",
              "       [296.2039 ],\n",
              "       [296.98044],\n",
              "       [298.30783],\n",
              "       [299.82315],\n",
              "       [301.7176 ],\n",
              "       [303.34277],\n",
              "       [304.71106],\n",
              "       [305.8076 ],\n",
              "       [306.4383 ]], dtype=float32)"
            ]
          },
          "metadata": {
            "tags": []
          },
          "execution_count": 359
        }
      ]
    },
    {
      "cell_type": "code",
      "metadata": {
        "colab": {
          "base_uri": "https://localhost:8080/"
        },
        "id": "LtzkwDY2iN_Z",
        "outputId": "fe96675d-fd3d-4e61-bcb8-5829f6ff2670"
      },
      "source": [
        "rmse = np.sqrt(np.mean(predictions - y_test)**2)\n",
        "print(\"Root Mean Squared Error = \", rmse)"
      ],
      "execution_count": 360,
      "outputs": [
        {
          "output_type": "stream",
          "text": [
            "Root Mean Squared Error =  12.295763216885657\n"
          ],
          "name": "stdout"
        }
      ]
    },
    {
      "cell_type": "code",
      "metadata": {
        "colab": {
          "base_uri": "https://localhost:8080/",
          "height": 572
        },
        "id": "fFI1oF8liQCk",
        "outputId": "5fe8e2bd-440d-409f-f34a-4a179b594ba3"
      },
      "source": [
        "import copy\n",
        "valid = copy.deepcopy(data[training_data_len:])\n",
        "valid['Predictions'] = predictions\n",
        "plt.figure(figsize=(16,9))\n",
        "plt.title('Model')\n",
        "plt.xlabel('Date', fontsize= 15, color = 'g')\n",
        "plt.ylabel('Close Price USD ($)', fontsize = 15, color = 'g')\n",
        "plt.plot(valid['Close'], color = 'blue', label = 'Actual Close Price')\n",
        "plt.plot(valid['Predictions'],  color = 'red', label = 'Predicted Close Price')\n",
        "plt.legend(loc = 'lower right', fontsize = 12)\n",
        "plt.xticks(fontsize = 12)\n",
        "plt.yticks(fontsize = 12)\n",
        "plt.show()"
      ],
      "execution_count": 361,
      "outputs": [
        {
          "output_type": "display_data",
          "data": {
            "image/png": "[encoded data removed]",
            "text/plain": [
              "<Figure size 1152x648 with 1 Axes>"
            ]
          },
          "metadata": {
            "tags": []
          }
        }
      ]
    },
    {
      "cell_type": "code",
      "metadata": {
        "colab": {
          "base_uri": "https://localhost:8080/",
          "height": 447
        },
        "id": "o2nYDw8QiTj0",
        "outputId": "3bf606a4-dcc8-4bac-a311-94257591f4ab"
      },
      "source": [
        "valid"
      ],
      "execution_count": 362,
      "outputs": [
        {
          "output_type": "execute_result",
          "data": {
            "text/html": [
              "<div>\n",
              "<style scoped>\n",
              "    .dataframe tbody tr th:only-of-type {\n",
              "        vertical-align: middle;\n",
              "    }\n",
              "\n",
              "    .dataframe tbody tr th {\n",
              "        vertical-align: top;\n",
              "    }\n",
              "\n",
              "    .dataframe thead th {\n",
              "        text-align: right;\n",
              "    }\n",
              "</style>\n",
              "<table border=\"1\" class=\"dataframe\">\n",
              "  <thead>\n",
              "    <tr style=\"text-align: right;\">\n",
              "      <th></th>\n",
              "      <th>Close</th>\n",
              "      <th>compound</th>\n",
              "      <th>negative</th>\n",
              "      <th>neutral</th>\n",
              "      <th>positive</th>\n",
              "      <th>Open</th>\n",
              "      <th>High</th>\n",
              "      <th>Low</th>\n",
              "      <th>Volume</th>\n",
              "      <th>Predictions</th>\n",
              "    </tr>\n",
              "    <tr>\n",
              "      <th>Date</th>\n",
              "      <th></th>\n",
              "      <th></th>\n",
              "      <th></th>\n",
              "      <th></th>\n",
              "      <th></th>\n",
              "      <th></th>\n",
              "      <th></th>\n",
              "      <th></th>\n",
              "      <th></th>\n",
              "      <th></th>\n",
              "    </tr>\n",
              "  </thead>\n",
              "  <tbody>\n",
              "    <tr>\n",
              "      <th>2020-01-29</th>\n",
              "      <td>223.23</td>\n",
              "      <td>0.9992</td>\n",
              "      <td>0.042</td>\n",
              "      <td>0.809</td>\n",
              "      <td>0.149</td>\n",
              "      <td>221.4400</td>\n",
              "      <td>224.2000</td>\n",
              "      <td>218.4500</td>\n",
              "      <td>33610010</td>\n",
              "      <td>212.380844</td>\n",
              "    </tr>\n",
              "    <tr>\n",
              "      <th>2020-01-30</th>\n",
              "      <td>209.53</td>\n",
              "      <td>0.9859</td>\n",
              "      <td>0.081</td>\n",
              "      <td>0.818</td>\n",
              "      <td>0.101</td>\n",
              "      <td>206.5300</td>\n",
              "      <td>211.4300</td>\n",
              "      <td>204.7500</td>\n",
              "      <td>48775500</td>\n",
              "      <td>212.365372</td>\n",
              "    </tr>\n",
              "    <tr>\n",
              "      <th>2020-01-31</th>\n",
              "      <td>201.91</td>\n",
              "      <td>0.9901</td>\n",
              "      <td>0.043</td>\n",
              "      <td>0.823</td>\n",
              "      <td>0.134</td>\n",
              "      <td>208.4300</td>\n",
              "      <td>208.6900</td>\n",
              "      <td>201.0600</td>\n",
              "      <td>31359920</td>\n",
              "      <td>211.594925</td>\n",
              "    </tr>\n",
              "    <tr>\n",
              "      <th>2020-02-03</th>\n",
              "      <td>204.19</td>\n",
              "      <td>0.8500</td>\n",
              "      <td>0.088</td>\n",
              "      <td>0.829</td>\n",
              "      <td>0.083</td>\n",
              "      <td>203.4400</td>\n",
              "      <td>205.1400</td>\n",
              "      <td>202.5000</td>\n",
              "      <td>15510510</td>\n",
              "      <td>209.893600</td>\n",
              "    </tr>\n",
              "    <tr>\n",
              "      <th>2020-02-04</th>\n",
              "      <td>209.83</td>\n",
              "      <td>0.9563</td>\n",
              "      <td>0.047</td>\n",
              "      <td>0.868</td>\n",
              "      <td>0.085</td>\n",
              "      <td>206.6165</td>\n",
              "      <td>210.6000</td>\n",
              "      <td>205.2025</td>\n",
              "      <td>19628890</td>\n",
              "      <td>207.931595</td>\n",
              "    </tr>\n",
              "    <tr>\n",
              "      <th>...</th>\n",
              "      <td>...</td>\n",
              "      <td>...</td>\n",
              "      <td>...</td>\n",
              "      <td>...</td>\n",
              "      <td>...</td>\n",
              "      <td>...</td>\n",
              "      <td>...</td>\n",
              "      <td>...</td>\n",
              "      <td>...</td>\n",
              "      <td>...</td>\n",
              "    </tr>\n",
              "    <tr>\n",
              "      <th>2021-05-28</th>\n",
              "      <td>328.73</td>\n",
              "      <td>0.9937</td>\n",
              "      <td>0.049</td>\n",
              "      <td>0.845</td>\n",
              "      <td>0.105</td>\n",
              "      <td>331.0000</td>\n",
              "      <td>332.8684</td>\n",
              "      <td>328.3300</td>\n",
              "      <td>12037430</td>\n",
              "      <td>301.717590</td>\n",
              "    </tr>\n",
              "    <tr>\n",
              "      <th>2021-06-01</th>\n",
              "      <td>329.13</td>\n",
              "      <td>0.9976</td>\n",
              "      <td>0.046</td>\n",
              "      <td>0.836</td>\n",
              "      <td>0.118</td>\n",
              "      <td>330.1500</td>\n",
              "      <td>331.4200</td>\n",
              "      <td>326.6400</td>\n",
              "      <td>11765910</td>\n",
              "      <td>303.342773</td>\n",
              "    </tr>\n",
              "    <tr>\n",
              "      <th>2021-06-02</th>\n",
              "      <td>329.15</td>\n",
              "      <td>0.7719</td>\n",
              "      <td>0.070</td>\n",
              "      <td>0.835</td>\n",
              "      <td>0.095</td>\n",
              "      <td>330.3800</td>\n",
              "      <td>331.8700</td>\n",
              "      <td>327.1215</td>\n",
              "      <td>11654280</td>\n",
              "      <td>304.711060</td>\n",
              "    </tr>\n",
              "    <tr>\n",
              "      <th>2021-06-03</th>\n",
              "      <td>326.04</td>\n",
              "      <td>-0.3348</td>\n",
              "      <td>0.074</td>\n",
              "      <td>0.857</td>\n",
              "      <td>0.069</td>\n",
              "      <td>325.7800</td>\n",
              "      <td>327.3750</td>\n",
              "      <td>323.4800</td>\n",
              "      <td>12610790</td>\n",
              "      <td>305.807587</td>\n",
              "    </tr>\n",
              "    <tr>\n",
              "      <th>2021-06-04</th>\n",
              "      <td>330.35</td>\n",
              "      <td>0.9801</td>\n",
              "      <td>0.056</td>\n",
              "      <td>0.854</td>\n",
              "      <td>0.089</td>\n",
              "      <td>325.9000</td>\n",
              "      <td>332.4550</td>\n",
              "      <td>325.1800</td>\n",
              "      <td>13289380</td>\n",
              "      <td>306.438293</td>\n",
              "    </tr>\n",
              "  </tbody>\n",
              "</table>\n",
              "<p>319 rows × 10 columns</p>\n",
              "</div>"
            ],
            "text/plain": [
              "             Close  compound  negative  ...       Low    Volume  Predictions\n",
              "Date                                    ...                                 \n",
              "2020-01-29  223.23    0.9992     0.042  ...  218.4500  33610010   212.380844\n",
              "2020-01-30  209.53    0.9859     0.081  ...  204.7500  48775500   212.365372\n",
              "2020-01-31  201.91    0.9901     0.043  ...  201.0600  31359920   211.594925\n",
              "2020-02-03  204.19    0.8500     0.088  ...  202.5000  15510510   209.893600\n",
              "2020-02-04  209.83    0.9563     0.047  ...  205.2025  19628890   207.931595\n",
              "...            ...       ...       ...  ...       ...       ...          ...\n",
              "2021-05-28  328.73    0.9937     0.049  ...  328.3300  12037430   301.717590\n",
              "2021-06-01  329.13    0.9976     0.046  ...  326.6400  11765910   303.342773\n",
              "2021-06-02  329.15    0.7719     0.070  ...  327.1215  11654280   304.711060\n",
              "2021-06-03  326.04   -0.3348     0.074  ...  323.4800  12610790   305.807587\n",
              "2021-06-04  330.35    0.9801     0.056  ...  325.1800  13289380   306.438293\n",
              "\n",
              "[319 rows x 10 columns]"
            ]
          },
          "metadata": {
            "tags": []
          },
          "execution_count": 362
        }
      ]
    },
    {
      "cell_type": "code",
      "metadata": {
        "colab": {
          "base_uri": "https://localhost:8080/"
        },
        "id": "xRh2CY5uiWox",
        "outputId": "c542e91e-ac88-4431-8324-9b6502af469e"
      },
      "source": [
        "import datetime\n",
        "\n",
        "last_day = data.index[-1]\n",
        "next_day = last_day + datetime.timedelta(days = 1)\n",
        "print(next_day)"
      ],
      "execution_count": 363,
      "outputs": [
        {
          "output_type": "stream",
          "text": [
            "2021-06-05 00:00:00\n"
          ],
          "name": "stdout"
        }
      ]
    },
    {
      "cell_type": "code",
      "metadata": {
        "colab": {
          "base_uri": "https://localhost:8080/"
        },
        "id": "IvpwkrfmiY73",
        "outputId": "16b36b3b-362e-4f74-8841-ef368b868aee"
      },
      "source": [
        "new_df = data.filter(['Close'])\n",
        "last_20_days = new_df[-20: ].values\n",
        "last_20_days_scaled = scaler.transform(last_20_days)\n",
        "\n",
        "X_test = []\n",
        "X_test.append(last_20_days_scaled)\n",
        "\n",
        "X_test = np.array(X_test)\n",
        "\n",
        "X_test = np.reshape(X_test, (X_test.shape[0], X_test.shape[1], 1))\n",
        "\n",
        "pred_price = model.predict(X_test)\n",
        "\n",
        "pred_price = scaler.inverse_transform(pred_price)\n",
        "print('Predicted Close Price for {} '.format(next_day) + ' = ', pred_price)"
      ],
      "execution_count": 364,
      "outputs": [
        {
          "output_type": "stream",
          "text": [
            "Predicted Close Price for 2021-06-05 00:00:00  =  [[307.04706]]\n"
          ],
          "name": "stdout"
        }
      ]
    },
    {
      "cell_type": "code",
      "metadata": {
        "id": "Qo3HcZtKidQM"
      },
      "source": [
        "previous = pred_price\n",
        "previous_pred_price = new_df.at[str(last_day), 'Close']"
      ],
      "execution_count": 365,
      "outputs": []
    },
    {
      "cell_type": "code",
      "metadata": {
        "colab": {
          "base_uri": "https://localhost:8080/"
        },
        "id": "E0QbFzNoifpY",
        "outputId": "84de8504-af73-4b70-fd0d-b8f045b143da"
      },
      "source": [
        "diff=(float)(pred_price - previous_pred_price)\n",
        "if(diff < 0):\n",
        "  print(\"percentage decrease = \",round(((- (diff)/previous_pred_price)*100),4))\n",
        "else:\n",
        "  print(\"percentage increase = \",round((( (diff)/previous_pred_price)*100),4))"
      ],
      "execution_count": 366,
      "outputs": [
        {
          "output_type": "stream",
          "text": [
            "percentage decrease =  7.054\n"
          ],
          "name": "stdout"
        }
      ]
    },
    {
      "cell_type": "code",
      "metadata": {
        "colab": {
          "base_uri": "https://localhost:8080/",
          "height": 598
        },
        "id": "GD7HTMKF0bqS",
        "outputId": "008c93a3-0091-4aec-d15c-0b8dd2c34b1d"
      },
      "source": [
        "train = data[:training_data_len]\n",
        "valid = data[training_data_len:]\n",
        "valid['Predictions'] = predictions\n",
        "plt.figure(figsize=(13,7))\n",
        "plt.title('Model')\n",
        "plt.xlabel('Date', fontsize=18)\n",
        "plt.ylabel('Close Price ', fontsize=18)\n",
        "plt.plot(train['Close'])\n",
        "plt.plot(valid[['Close', 'Predictions']])\n",
        "plt.legend(['Train', 'Val', 'Predictions'], loc='lower right')\n",
        "plt.show()"
      ],
      "execution_count": 367,
      "outputs": [
        {
          "output_type": "stream",
          "text": [
            "/usr/local/lib/python3.7/dist-packages/ipykernel_launcher.py:3: SettingWithCopyWarning:\n",
            "\n",
            "\n",
            "A value is trying to be set on a copy of a slice from a DataFrame.\n",
            "Try using .loc[row_indexer,col_indexer] = value instead\n",
            "\n",
            "See the caveats in the documentation: https://pandas.pydata.org/pandas-docs/stable/user_guide/indexing.html#returning-a-view-versus-a-copy\n",
            "\n"
          ],
          "name": "stderr"
        },
        {
          "output_type": "display_data",
          "data": {
            "image/png": "[encoded data removed]",
            "text/plain": [
              "<Figure size 936x504 with 1 Axes>"
            ]
          },
          "metadata": {
            "tags": []
          }
        }
      ]
    },
    {
      "cell_type": "code",
      "metadata": {
        "id": "EWq6dQJtZWm6"
      },
      "source": [
        "model.save('model.h5')"
      ],
      "execution_count": 368,
      "outputs": []
    }
  ]
}