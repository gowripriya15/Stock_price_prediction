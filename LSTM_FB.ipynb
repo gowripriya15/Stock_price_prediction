{
  "nbformat": 4,
  "nbformat_minor": 0,
  "metadata": {
    "colab": {
      "name": "LSTM_FB.ipynb",
      "provenance": [],
      "collapsed_sections": [],
      "authorship_tag": "ABX9TyMwwMdo5XKjeq/ZSZiRGbpW",
      "include_colab_link": true
    },
    "kernelspec": {
      "name": "python3",
      "display_name": "Python 3"
    },
    "language_info": {
      "name": "python"
    }
  },
  "cells": [
    {
      "cell_type": "markdown",
      "metadata": {
        "id": "view-in-github",
        "colab_type": "text"
      },
      "source": [
        "<a href=\"https://colab.research.google.com/github/gowripriya15/Stock_price_prediction/blob/main/LSTM_FB.ipynb\" target=\"_parent\"><img src=\"https://colab.research.google.com/assets/colab-badge.svg\" alt=\"Open In Colab\"/></a>"
      ]
    },
    {
      "cell_type": "markdown",
      "metadata": {
        "id": "1aIqtNfox16f"
      },
      "source": [
        "**STOCK_PRICE_PREDICTION_FOR_LARGE_CAP_TECH_COMPANIES**\n",
        "In this project,we will predict the stock price for various companies with the help of historical data and news-headlines by applying the LSTM model(Long Short-Term Memory)."
      ]
    },
    {
      "cell_type": "markdown",
      "metadata": {
        "id": "W-qz4V83-f8f"
      },
      "source": [
        "**IMPORTING REQUIRED LIBRARIES**"
      ]
    },
    {
      "cell_type": "code",
      "metadata": {
        "id": "c1w2KotQe1lX"
      },
      "source": [
        "import math\n",
        "import numpy as np\n",
        "import pandas as pd\n",
        "from sklearn.preprocessing import MinMaxScaler\n",
        "from keras.models import Sequential\n",
        "from keras.layers import Dense, LSTM, Dropout\n",
        "import matplotlib.pyplot as plt\n",
        "plt.style.use('seaborn')"
      ],
      "execution_count": null,
      "outputs": []
    },
    {
      "cell_type": "markdown",
      "metadata": {
        "id": "BfqXWvdp-rr3"
      },
      "source": [
        "**UPLOADING DATASETS**"
      ]
    },
    {
      "cell_type": "code",
      "metadata": {
        "id": "qMVYsyr_e8eB"
      },
      "source": [
        "from google.colab import files\n",
        "uploaded = files.upload()"
      ],
      "execution_count": null,
      "outputs": []
    },
    {
      "cell_type": "code",
      "metadata": {
        "id": "aj4BfeMPfBnS"
      },
      "source": [
        "import io\n",
        "fb_data=pd.read_csv(io.BytesIO(uploaded['facebook_merge_news_headlines.csv']))\n",
        "fb_data = pd.read_csv(\"facebook_merge_news_headlines.csv\", parse_dates=['Date'])\n",
        "fb_data\n",
        "\n",
        "\n",
        "\n"
      ],
      "execution_count": null,
      "outputs": []
    },
    {
      "cell_type": "code",
      "metadata": {
        "id": "1fA9jJghfqZL"
      },
      "source": [
        "from google.colab import files\n",
        "uploaded = files.upload()"
      ],
      "execution_count": null,
      "outputs": []
    },
    {
      "cell_type": "code",
      "metadata": {
        "id": "QVbi8chsfELp"
      },
      "source": [
        "\n",
        "df=pd.read_csv(io.BytesIO(uploaded['HistoricalData_FB.csv']))"
      ],
      "execution_count": null,
      "outputs": []
    },
    {
      "cell_type": "markdown",
      "metadata": {
        "id": "Ue39N0Dd-3PZ"
      },
      "source": [
        "**CHECKING NULL VALUES**"
      ]
    },
    {
      "cell_type": "code",
      "metadata": {
        "id": "Ceh1vOOv_QhU"
      },
      "source": [
        "import seaborn as sns\n",
        "sns.heatmap(fb_data.isnull(),cmap='plasma')"
      ],
      "execution_count": null,
      "outputs": []
    },
    {
      "cell_type": "code",
      "metadata": {
        "id": "np9YWORAf0FU"
      },
      "source": [
        "fb_data.sort_index(inplace=True)"
      ],
      "execution_count": null,
      "outputs": []
    },
    {
      "cell_type": "code",
      "metadata": {
        "id": "9qLmWgObf2Te"
      },
      "source": [
        "df = pd.read_csv(\"HistoricalData_FB.csv\", parse_dates=['Date'])\n",
        "df.head()"
      ],
      "execution_count": null,
      "outputs": []
    },
    {
      "cell_type": "code",
      "metadata": {
        "id": "mLoZ1uk1f_sd"
      },
      "source": [
        "df.rename(columns={\"Close/Last\":\"Close\"},inplace = True)\n",
        "\n"
      ],
      "execution_count": null,
      "outputs": []
    },
    {
      "cell_type": "code",
      "metadata": {
        "id": "z0OagLLYgA_j"
      },
      "source": [
        "df.sort_values('Date', inplace=True)"
      ],
      "execution_count": null,
      "outputs": []
    },
    {
      "cell_type": "code",
      "metadata": {
        "id": "MA91CZZtgE9y"
      },
      "source": [
        "df.reset_index()"
      ],
      "execution_count": null,
      "outputs": []
    },
    {
      "cell_type": "code",
      "metadata": {
        "id": "re7jJKA8gJFr"
      },
      "source": [
        "df.columns"
      ],
      "execution_count": null,
      "outputs": []
    },
    {
      "cell_type": "markdown",
      "metadata": {
        "id": "bD5myQEIBL8P"
      },
      "source": [
        "**MERGING THE HISTORICAL DATASET AND NEWS_HEADLINES DATASET**"
      ]
    },
    {
      "cell_type": "code",
      "metadata": {
        "id": "dY6L6neLgLW7"
      },
      "source": [
        "data = pd.merge(fb_data, df, how='inner', on=['Date'])"
      ],
      "execution_count": null,
      "outputs": []
    },
    {
      "cell_type": "code",
      "metadata": {
        "id": "s6JE3epCgNm4"
      },
      "source": [
        "data"
      ],
      "execution_count": null,
      "outputs": []
    },
    {
      "cell_type": "code",
      "metadata": {
        "id": "jLpvbi-JgRKf"
      },
      "source": [
        "data[\"Close\"] = data[\"Close\"].str.replace('$', '').astype(float)\n",
        "data[\"Open\"] = data[\"Open\"].str.replace('$', '').astype(float)\n",
        "data[\"High\"] = data[\"High\"].str.replace('$', '').astype(float)\n",
        "data[\"Low\"] = data[\"Low\"].str.replace('$', '').astype(float)"
      ],
      "execution_count": null,
      "outputs": []
    },
    {
      "cell_type": "code",
      "metadata": {
        "id": "WZsoFRCbgTqH"
      },
      "source": [
        "data.head()"
      ],
      "execution_count": null,
      "outputs": []
    },
    {
      "cell_type": "code",
      "metadata": {
        "id": "cLgK4rL3jKOh"
      },
      "source": [
        "data.reset_index(inplace=True)\n",
        "data_1=data[[\"Date\",\"Close\"]]"
      ],
      "execution_count": null,
      "outputs": []
    },
    {
      "cell_type": "code",
      "metadata": {
        "id": "l7nvDEQwjLAW"
      },
      "source": [
        "data_1=data[[\"Date\",\"Close\"]]"
      ],
      "execution_count": null,
      "outputs": []
    },
    {
      "cell_type": "code",
      "metadata": {
        "id": "EX9KB4JTjRps"
      },
      "source": [
        "data_1=data_1.rename(columns={\"Date\": \"ds\", \"Close\": \"y\"})"
      ],
      "execution_count": null,
      "outputs": []
    },
    {
      "cell_type": "code",
      "metadata": {
        "id": "bsc1T9RYjUKk"
      },
      "source": [
        "data_1.head()"
      ],
      "execution_count": null,
      "outputs": []
    },
    {
      "cell_type": "markdown",
      "metadata": {
        "id": "48uTYCioBcnZ"
      },
      "source": [
        "**Prophet model**:Prophet is a procedure for forecasting time series data based on an additive model where non-linear trends are fit with yearly, weekly, and daily seasonality, plus holiday effects. It works best with time series that have strong seasonal effects and several seasons of historical data."
      ]
    },
    {
      "cell_type": "code",
      "metadata": {
        "id": "mqKCtVLCjXI_"
      },
      "source": [
        "from fbprophet import Prophet\n",
        "m = Prophet(daily_seasonality = True) # the Prophet class (model)\n",
        "m.fit(data_1) "
      ],
      "execution_count": null,
      "outputs": []
    },
    {
      "cell_type": "code",
      "metadata": {
        "id": "UeZvHN5OjYxU"
      },
      "source": [
        "future = m.make_future_dataframe(periods=365) #we need to specify the number of days in future\n",
        "prediction = m.predict(future)\n",
        "m.plot(prediction)\n",
        "plt.title(\"Prediction of the Facebook Stock Price using the Prophet\")\n",
        "plt.xlabel(\"Date\")\n",
        "plt.ylabel(\"Close Stock Price\")\n",
        "plt.show()"
      ],
      "execution_count": null,
      "outputs": []
    },
    {
      "cell_type": "code",
      "metadata": {
        "id": "5UxDaC8mjbcq"
      },
      "source": [
        "m.plot_components(prediction)\n",
        "plt.show()"
      ],
      "execution_count": null,
      "outputs": []
    },
    {
      "cell_type": "code",
      "metadata": {
        "id": "L8SHv46-gV3r"
      },
      "source": [
        "data.set_index(\"Date\", inplace = True)\n",
        "data.head()"
      ],
      "execution_count": null,
      "outputs": []
    },
    {
      "cell_type": "code",
      "metadata": {
        "id": "GXnSxz2RgaHg"
      },
      "source": [
        "data.sort_index(ascending=True,inplace=True)\n",
        "data.head()"
      ],
      "execution_count": null,
      "outputs": []
    },
    {
      "cell_type": "code",
      "metadata": {
        "id": "prpoGJORgcbb"
      },
      "source": [
        "data.shape"
      ],
      "execution_count": null,
      "outputs": []
    },
    {
      "cell_type": "code",
      "metadata": {
        "id": "d1cmnNa4gesl"
      },
      "source": [
        "plt.figure(figsize=(16,9))\n",
        "plt.title('Close Price History of Facebook', fontsize = 20)\n",
        "plt.plot(data['Close'])\n",
        "plt.xlabel('Date', fontsize = 16, color = 'g')\n",
        "plt.ylabel('Close Price USD ($)', fontsize = 16, color = 'g')\n",
        "plt.xticks(fontsize = 12)\n",
        "plt.yticks(fontsize = 12)\n",
        "plt.show()"
      ],
      "execution_count": null,
      "outputs": []
    },
    {
      "cell_type": "code",
      "metadata": {
        "id": "WWWO-PergiYt"
      },
      "source": [
        "import os"
      ],
      "execution_count": null,
      "outputs": []
    },
    {
      "cell_type": "code",
      "metadata": {
        "id": "t3mTs-WkgkmY"
      },
      "source": [
        "data.to_csv('NewsandHistoricaldata.csv')"
      ],
      "execution_count": null,
      "outputs": []
    },
    {
      "cell_type": "code",
      "metadata": {
        "id": "ExVBp09tgnWW"
      },
      "source": [
        "os.getcwd()"
      ],
      "execution_count": null,
      "outputs": []
    },
    {
      "cell_type": "markdown",
      "metadata": {
        "id": "Lq6l2TinCEbR"
      },
      "source": [
        "**SENTIMENT ANALYSIS**"
      ]
    },
    {
      "cell_type": "code",
      "metadata": {
        "id": "lY_G8rlegpgD"
      },
      "source": [
        "data['compound'] = ''\n",
        "data['negative'] = ''\n",
        "data['neutral'] = ''\n",
        "data['positive'] = ''\n",
        "data.head()"
      ],
      "execution_count": null,
      "outputs": []
    },
    {
      "cell_type": "code",
      "metadata": {
        "id": "2j6K7qRhgsvP"
      },
      "source": [
        "import nltk\n",
        "nltk.download('vader_lexicon')"
      ],
      "execution_count": null,
      "outputs": []
    },
    {
      "cell_type": "code",
      "metadata": {
        "id": "wkoVYxtwgutF"
      },
      "source": [
        "from nltk.sentiment.vader import SentimentIntensityAnalyzer\n",
        "import unicodedata\n",
        "\n",
        "\n",
        "sid = SentimentIntensityAnalyzer()\n",
        "\n",
        "data['compound'] = data['Headlines'].apply(lambda x: sid.polarity_scores(x)['compound'])\n",
        "data['negative'] = data['Headlines'].apply(lambda x: sid.polarity_scores(x)['neg'])\n",
        "data['neutral'] = data['Headlines'].apply(lambda x: sid.polarity_scores(x)['neu'])\n",
        "data['positive'] = data['Headlines'].apply(lambda x: sid.polarity_scores(x)['pos'])\n",
        "\n",
        "\n",
        "data.head()"
      ],
      "execution_count": null,
      "outputs": []
    },
    {
      "cell_type": "code",
      "metadata": {
        "id": "oxaOUlyyxkY2"
      },
      "source": [
        "data['label'] = 0\n",
        "data.loc[data['compound'] > 0.2, 'label'] = 1\n",
        "data.loc[data['compound'] < -0.2, 'label'] = -1\n",
        "data"
      ],
      "execution_count": null,
      "outputs": []
    },
    {
      "cell_type": "code",
      "metadata": {
        "id": "KbrKzNPrxn3m"
      },
      "source": [
        "data.drop(['label'], axis = 1)"
      ],
      "execution_count": null,
      "outputs": []
    },
    {
      "cell_type": "code",
      "metadata": {
        "id": "zS34erJXg1tk"
      },
      "source": [
        "data.columns"
      ],
      "execution_count": null,
      "outputs": []
    },
    {
      "cell_type": "code",
      "metadata": {
        "id": "yaOwvBgPg4Fi"
      },
      "source": [
        "data = data[['Close', 'compound', 'negative', 'neutral', 'positive', 'Open', 'High', 'Low', 'Volume']]\n",
        "\n",
        "data.head()"
      ],
      "execution_count": null,
      "outputs": []
    },
    {
      "cell_type": "code",
      "metadata": {
        "id": "Ky8KyY7Zg6rf"
      },
      "source": [
        "stockdata=data.to_csv('stockdata.csv')"
      ],
      "execution_count": null,
      "outputs": []
    },
    {
      "cell_type": "code",
      "metadata": {
        "id": "1NROR2cSg8MV"
      },
      "source": [
        "stockdata = pd.read_csv('stockdata.csv', index_col = False)\n",
        "\n",
        "stockdata.rename(columns={'Unnamed: 0':'Date'}, inplace = True)\n",
        "\n",
        "stockdata.set_index('Date', inplace=True)\n",
        "\n",
        "stockdata.head()"
      ],
      "execution_count": null,
      "outputs": []
    },
    {
      "cell_type": "code",
      "metadata": {
        "id": "aSV_wD06g-ny"
      },
      "source": [
        "stockdata.shape"
      ],
      "execution_count": null,
      "outputs": []
    },
    {
      "cell_type": "code",
      "metadata": {
        "id": "AljsJHM_hF6Q"
      },
      "source": [
        "stockdata.isna().any()"
      ],
      "execution_count": null,
      "outputs": []
    },
    {
      "cell_type": "code",
      "metadata": {
        "id": "mkiIo7I2hJM7"
      },
      "source": [
        "stockdata.describe(include='all')"
      ],
      "execution_count": null,
      "outputs": []
    },
    {
      "cell_type": "code",
      "metadata": {
        "id": "St4ArMW3hMkm"
      },
      "source": [
        "stockdata.info()"
      ],
      "execution_count": null,
      "outputs": []
    },
    {
      "cell_type": "code",
      "metadata": {
        "id": "lKLMCPVehO1U"
      },
      "source": [
        "close_price = stockdata.iloc[:,0] \n",
        "\n",
        "print(\"Close Price:\")\n",
        "close_price"
      ],
      "execution_count": null,
      "outputs": []
    },
    {
      "cell_type": "code",
      "metadata": {
        "id": "YrW8e3frhS0P"
      },
      "source": [
        "need_data = pd.concat([close_price], axis=1)\n",
        "\n",
        "\n",
        "need_data.columns = ['close_price']  \n",
        "need_data.tail(20)"
      ],
      "execution_count": null,
      "outputs": []
    },
    {
      "cell_type": "code",
      "metadata": {
        "id": "lL8hoXEVhWaN"
      },
      "source": [
        "dataset = need_data.values"
      ],
      "execution_count": null,
      "outputs": []
    },
    {
      "cell_type": "code",
      "metadata": {
        "id": "UP42vJJVhYVo"
      },
      "source": [
        "training_data_len = math.ceil(len(dataset)*.8)\n",
        "training_data_len"
      ],
      "execution_count": null,
      "outputs": []
    },
    {
      "cell_type": "code",
      "metadata": {
        "id": "JlN-_ElDha0x"
      },
      "source": [
        "scaler = MinMaxScaler(feature_range=(0,1))\n",
        "scaled_data = scaler.fit_transform(dataset)\n",
        "\n",
        "print(scaled_data)"
      ],
      "execution_count": null,
      "outputs": []
    },
    {
      "cell_type": "code",
      "metadata": {
        "id": "7gflUbq4hhvJ"
      },
      "source": [
        "train_data = scaled_data[0:training_data_len , :]\n",
        "\n",
        "x_train = []\n",
        "y_train = []\n",
        "past_days = 20\n",
        "for i in range(past_days, len(train_data)):\n",
        "    x_train.append(train_data[i-past_days:i, :])\n",
        "    y_train.append(train_data[i, 0])\n",
        "    if i<= past_days:\n",
        "        print(x_train)\n",
        "        print(y_train)\n",
        "        print()"
      ],
      "execution_count": null,
      "outputs": []
    },
    {
      "cell_type": "code",
      "metadata": {
        "id": "3GfRujzrhnBR"
      },
      "source": [
        "x_train, y_train = np.array(x_train), np.array(y_train)"
      ],
      "execution_count": null,
      "outputs": []
    },
    {
      "cell_type": "code",
      "metadata": {
        "id": "GWKisqqphpK-"
      },
      "source": [
        "x_train = np.reshape(x_train, (x_train.shape[0], x_train.shape[1], 1))\n",
        "x_train"
      ],
      "execution_count": null,
      "outputs": []
    },
    {
      "cell_type": "code",
      "metadata": {
        "id": "YAgOR-fThsua"
      },
      "source": [
        "print(x_train.shape)\n",
        "print(y_train.shape)"
      ],
      "execution_count": null,
      "outputs": []
    },
    {
      "cell_type": "markdown",
      "metadata": {
        "id": "wbAS8pRvDNRM"
      },
      "source": [
        "**APPLYING THE LSTM MODEL**"
      ]
    },
    {
      "cell_type": "code",
      "metadata": {
        "id": "dvHVenhbhvQh"
      },
      "source": [
        "import keras.models\n",
        "import tensorflow as tf\n",
        "tf.random.set_seed(0)\n",
        "model = Sequential()\n",
        "model.add(LSTM(160, return_sequences=True, activation = \"tanh\", input_shape= (x_train.shape[1], 1)))\n",
        "model.add(Dropout(0.2))\n",
        "model.add(LSTM(80, return_sequences= False, activation = \"tanh\"))\n",
        "model.add(Dense(60))\n",
        "model.add(Dense(1))\n",
        "\n",
        "model.summary()"
      ],
      "execution_count": null,
      "outputs": []
    },
    {
      "cell_type": "code",
      "metadata": {
        "id": "GLzv9xzfhyu3"
      },
      "source": [
        "model.compile(optimizer='adam', loss='mean_squared_error')"
      ],
      "execution_count": null,
      "outputs": []
    },
    {
      "cell_type": "code",
      "metadata": {
        "id": "usEYHckeh02S"
      },
      "source": [
        "from keras.callbacks import EarlyStopping\n",
        "early_stop = EarlyStopping(monitor = 'val_loss', mode = 'min',verbose = 1,patience = 5)\n",
        "\n",
        "history = model.fit(x_train, y_train, batch_size = 64, epochs = 100, verbose = 1, validation_split = 0.2, callbacks = [early_stop])"
      ],
      "execution_count": null,
      "outputs": []
    },
    {
      "cell_type": "code",
      "metadata": {
        "id": "RhxWc7yrh36M"
      },
      "source": [
        "loss = pd.DataFrame(model.history.history)\n",
        "loss.plot()"
      ],
      "execution_count": null,
      "outputs": []
    },
    {
      "cell_type": "code",
      "metadata": {
        "id": "vHyaxvR9h5s9"
      },
      "source": [
        "test_data = scaled_data[training_data_len - past_days: , :]\n",
        "\n",
        "x_test = []\n",
        "y_test = dataset[training_data_len:, 0]\n",
        "for i in range(past_days, len(test_data)):\n",
        "    x_test.append(test_data[i-past_days:i, :])"
      ],
      "execution_count": null,
      "outputs": []
    },
    {
      "cell_type": "code",
      "metadata": {
        "id": "JcBXtGuqh8E5"
      },
      "source": [
        "x_test = np.array(x_test)"
      ],
      "execution_count": null,
      "outputs": []
    },
    {
      "cell_type": "code",
      "metadata": {
        "id": "ulP48Z9yiAoY"
      },
      "source": [
        "x_test = np.reshape(x_test, (x_test.shape[0], x_test.shape[1], 1))"
      ],
      "execution_count": null,
      "outputs": []
    },
    {
      "cell_type": "code",
      "metadata": {
        "id": "an6h8fN0iHzj"
      },
      "source": [
        "predictions = model.predict(x_test)\n",
        "predictions = scaler.inverse_transform(predictions)"
      ],
      "execution_count": null,
      "outputs": []
    },
    {
      "cell_type": "code",
      "metadata": {
        "id": "AOygfQ4PiKjl"
      },
      "source": [
        "predictions"
      ],
      "execution_count": null,
      "outputs": []
    },
    {
      "cell_type": "code",
      "metadata": {
        "id": "LtzkwDY2iN_Z"
      },
      "source": [
        "rmse = np.sqrt(np.mean(predictions - y_test)**2)\n",
        "print(\"Root Mean Squared Error = \", rmse)"
      ],
      "execution_count": null,
      "outputs": []
    },
    {
      "cell_type": "code",
      "metadata": {
        "id": "fFI1oF8liQCk"
      },
      "source": [
        "import copy\n",
        "valid = copy.deepcopy(data[training_data_len:])\n",
        "valid['Predictions'] = predictions\n",
        "plt.figure(figsize=(16,9))\n",
        "plt.title('Model')\n",
        "plt.xlabel('Date', fontsize= 15, color = 'g')\n",
        "plt.ylabel('Close Price USD ($)', fontsize = 15, color = 'g')\n",
        "plt.plot(valid['Close'], color = 'blue', label = 'Actual Close Price')\n",
        "plt.plot(valid['Predictions'],  color = 'red', label = 'Predicted Close Price')\n",
        "plt.legend(loc = 'lower right', fontsize = 12)\n",
        "plt.xticks(fontsize = 12)\n",
        "plt.yticks(fontsize = 12)\n",
        "plt.show()"
      ],
      "execution_count": null,
      "outputs": []
    },
    {
      "cell_type": "code",
      "metadata": {
        "id": "o2nYDw8QiTj0"
      },
      "source": [
        "valid"
      ],
      "execution_count": null,
      "outputs": []
    },
    {
      "cell_type": "code",
      "metadata": {
        "id": "xRh2CY5uiWox"
      },
      "source": [
        "import datetime\n",
        "\n",
        "last_day = data.index[-1]\n",
        "next_day = last_day + datetime.timedelta(days = 1)\n",
        "print(next_day)"
      ],
      "execution_count": null,
      "outputs": []
    },
    {
      "cell_type": "code",
      "metadata": {
        "id": "IvpwkrfmiY73"
      },
      "source": [
        "new_df = data.filter(['Close'])\n",
        "last_20_days = new_df[-20: ].values\n",
        "last_20_days_scaled = scaler.transform(last_20_days)\n",
        "\n",
        "X_test = []\n",
        "X_test.append(last_20_days_scaled)\n",
        "\n",
        "X_test = np.array(X_test)\n",
        "\n",
        "X_test = np.reshape(X_test, (X_test.shape[0], X_test.shape[1], 1))\n",
        "\n",
        "pred_price = model.predict(X_test)\n",
        "\n",
        "pred_price = scaler.inverse_transform(pred_price)\n",
        "print('Predicted Close Price for {} '.format(next_day) + ' = ', pred_price)"
      ],
      "execution_count": null,
      "outputs": []
    },
    {
      "cell_type": "code",
      "metadata": {
        "id": "Qo3HcZtKidQM"
      },
      "source": [
        "previous = pred_price\n",
        "previous_pred_price = new_df.at[str(last_day), 'Close']"
      ],
      "execution_count": null,
      "outputs": []
    },
    {
      "cell_type": "code",
      "metadata": {
        "id": "E0QbFzNoifpY"
      },
      "source": [
        "diff=(float)(pred_price - previous_pred_price)\n",
        "if(diff < 0):\n",
        "  print(\"percentage decrease = \",round(((- (diff)/previous_pred_price)*100),4))\n",
        "else:\n",
        "  print(\"percentage increase = \",round((( (diff)/previous_pred_price)*100),4))"
      ],
      "execution_count": null,
      "outputs": []
    },
    {
      "cell_type": "code",
      "metadata": {
        "id": "GD7HTMKF0bqS"
      },
      "source": [
        "train = data[:training_data_len]\n",
        "valid = data[training_data_len:]\n",
        "valid['Predictions'] = predictions\n",
        "plt.figure(figsize=(13,7))\n",
        "plt.title('Model')\n",
        "plt.xlabel('Date', fontsize=18)\n",
        "plt.ylabel('Close Price ', fontsize=18)\n",
        "plt.plot(train['Close'])\n",
        "plt.plot(valid[['Close', 'Predictions']])\n",
        "plt.legend(['Train', 'Val', 'Predictions'], loc='lower right')\n",
        "plt.show()"
      ],
      "execution_count": null,
      "outputs": []
    },
    {
      "cell_type": "code",
      "metadata": {
        "id": "qqQx1xbbYytL"
      },
      "source": [
        "model.save('model.h5')"
      ],
      "execution_count": null,
      "outputs": []
    }
  ]
}